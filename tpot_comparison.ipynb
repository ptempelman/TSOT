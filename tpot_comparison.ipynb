{
 "cells": [
  {
   "cell_type": "code",
   "execution_count": 9,
   "metadata": {},
   "outputs": [],
   "source": [
    "import numpy as np\n",
    "from tpot import TPOTRegressor\n",
    "from sklearn.model_selection import train_test_split\n",
    "from datasets.get_dataset import get_dataset"
   ]
  },
  {
   "cell_type": "code",
   "execution_count": 10,
   "metadata": {},
   "outputs": [
    {
     "name": "stdout",
     "output_type": "stream",
     "text": [
      "                                                                             \n",
      "Generation 1 - Current best internal CV score: -1.4726008522003422\n",
      "                                                                             \n",
      "Generation 2 - Current best internal CV score: -1.4518251167840244\n",
      "                                                                             \n",
      "Generation 3 - Current best internal CV score: -1.4518251167840244\n",
      "                                                                             \n",
      "Generation 4 - Current best internal CV score: -1.4450470591117015\n",
      "                                                                             \n",
      "Generation 5 - Current best internal CV score: -1.4450470591117015\n",
      "                                                                             \n",
      "Generation 6 - Current best internal CV score: -1.4450470591117015\n",
      "                                                                             \n",
      "Generation 7 - Current best internal CV score: -1.4382228988477797\n",
      "                                                                             \n",
      "Generation 8 - Current best internal CV score: -1.4382228988477797\n",
      "                                                                             \n",
      "Generation 9 - Current best internal CV score: -1.4382228988477797\n",
      "                                                                              \n",
      "Generation 10 - Current best internal CV score: -1.4247427064031553\n",
      "                                                                              \n",
      "Generation 11 - Current best internal CV score: -1.3903208893871788\n",
      "                                                                              \n",
      "Generation 12 - Current best internal CV score: -1.3903208893871788\n",
      "                                                                              \n",
      "Generation 13 - Current best internal CV score: -1.3900985984655048\n",
      "                                                                              \n",
      "Generation 14 - Current best internal CV score: -1.3900985984655048\n",
      "                                                                              \n",
      "Generation 15 - Current best internal CV score: -1.3900985984655048\n",
      "                                                                              \n",
      "Generation 16 - Current best internal CV score: -1.3865877963870965\n",
      "                                                                              \n",
      "Generation 17 - Current best internal CV score: -1.3865877963870965\n",
      "                                                                              \n",
      "Generation 18 - Current best internal CV score: -1.3841552784769051\n",
      "                                                                              \n",
      "Generation 19 - Current best internal CV score: -1.3790480210308473\n",
      "                                                                              \n",
      "Generation 20 - Current best internal CV score: -1.3700865724280504\n",
      "                                                                              \n",
      "Best pipeline: RandomForestRegressor(MaxAbsScaler(input_matrix), bootstrap=False, max_features=0.45, min_samples_leaf=1, min_samples_split=2, n_estimators=100)\n"
     ]
    }
   ],
   "source": [
    "from math import sqrt\n",
    "from sklearn.metrics import make_scorer, mean_squared_error\n",
    "\n",
    "from tpot_evaluation import create_dataset\n",
    "\n",
    "\n",
    "dataset = get_dataset(\"electricity\", size=1000)\n",
    "\n",
    "\n",
    "def rmse(y_true, y_pred):\n",
    "    return sqrt(mean_squared_error(y_true, y_pred))\n",
    "\n",
    "rmse_scorer = make_scorer(rmse, greater_is_better=False)\n",
    "\n",
    "X, y = create_dataset(dataset, n_historical=100, n_steps_ahead=2)\n",
    "train_X, test_X, train_y, test_y = train_test_split(\n",
    "    X, y, test_size=0.1, random_state=0\n",
    ")  # WARNING: to make tpot work for multivariate targets, you need to apply a fix to tpot.base package yourself, described here: https://github.com/EpistasisLab/tpot/pull/903\n",
    "\n",
    "\n",
    "# Initialize TPOT regressor\n",
    "tpot = TPOTRegressor(\n",
    "    scoring=rmse_scorer, generations=20, population_size=10, verbosity=2, n_jobs=20\n",
    ")\n",
    "\n",
    "# Fit TPOT to the data\n",
    "tpot.fit(train_X, train_y)\n",
    "\n",
    "# Export the best model\n",
    "tpot.export(\"best_tpot_model.py\")"
   ]
  },
  {
   "cell_type": "code",
   "execution_count": 11,
   "metadata": {},
   "outputs": [
    {
     "name": "stdout",
     "output_type": "stream",
     "text": [
      "Test RMSE: 1.3495065618222601\n"
     ]
    }
   ],
   "source": [
    "predictions = tpot.predict(test_X)\n",
    "rmse = sqrt(mean_squared_error(test_y, predictions))\n",
    "print(f\"Test RMSE: {rmse}\")"
   ]
  },
  {
   "cell_type": "code",
   "execution_count": 12,
   "metadata": {},
   "outputs": [],
   "source": [
    "# 1/2 runs per dataset\n",
    "# run tsot and tpot\n",
    "# extract best algorithm setups\n",
    "# evaluate both in tsot evaluation setup"
   ]
  }
 ],
 "metadata": {
  "kernelspec": {
   "display_name": ".venv",
   "language": "python",
   "name": "python3"
  },
  "language_info": {
   "codemirror_mode": {
    "name": "ipython",
    "version": 3
   },
   "file_extension": ".py",
   "mimetype": "text/x-python",
   "name": "python",
   "nbconvert_exporter": "python",
   "pygments_lexer": "ipython3",
   "version": "3.8.10"
  },
  "orig_nbformat": 4
 },
 "nbformat": 4,
 "nbformat_minor": 2
}
