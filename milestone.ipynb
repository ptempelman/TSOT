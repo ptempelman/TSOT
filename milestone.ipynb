{
 "cells": [
  {
   "cell_type": "code",
   "execution_count": 1,
   "metadata": {},
   "outputs": [],
   "source": [
    "import matplotlib.pyplot as plt\n",
    "plt.style.use('seaborn-whitegrid')"
   ]
  },
  {
   "cell_type": "code",
   "execution_count": 2,
   "metadata": {},
   "outputs": [],
   "source": [
    "from datasets.get_dataset import get_dataset\n",
    "from genetic.algorithm import genetic_algorithm\n"
   ]
  },
  {
   "cell_type": "code",
   "execution_count": 3,
   "metadata": {},
   "outputs": [
    {
     "name": "stderr",
     "output_type": "stream",
     "text": [
      "100%|██████████| 10/10 [00:01<00:00,  7.05it/s]\n"
     ]
    },
    {
     "name": "stdout",
     "output_type": "stream",
     "text": [
      "['differencing'], holt_winters, {'seasonal_periods': 24}\n",
      "Epoch 0 mean: 10.76 best: 1.271\n"
     ]
    },
    {
     "name": "stderr",
     "output_type": "stream",
     "text": [
      " 50%|█████     | 5/10 [00:00<00:00,  7.98it/s]\n"
     ]
    },
    {
     "ename": "KeyboardInterrupt",
     "evalue": "",
     "output_type": "error",
     "traceback": [
      "\u001b[0;31m---------------------------------------------------------------------------\u001b[0m",
      "\u001b[0;31mKeyboardInterrupt\u001b[0m                         Traceback (most recent call last)",
      "Cell \u001b[0;32mIn[3], line 14\u001b[0m\n\u001b[1;32m      3\u001b[0m     configuration \u001b[39m=\u001b[39m {\n\u001b[1;32m      4\u001b[0m         \u001b[39m\"\u001b[39m\u001b[39mepochs\u001b[39m\u001b[39m\"\u001b[39m: \u001b[39m30\u001b[39m,\n\u001b[1;32m      5\u001b[0m         \u001b[39m\"\u001b[39m\u001b[39mpopulation_size\u001b[39m\u001b[39m\"\u001b[39m: \u001b[39m10\u001b[39m,\n\u001b[0;32m   (...)\u001b[0m\n\u001b[1;32m      9\u001b[0m         \u001b[39m\"\u001b[39m\u001b[39mcycle_length\u001b[39m\u001b[39m\"\u001b[39m: \u001b[39m24\u001b[39m,\n\u001b[1;32m     10\u001b[0m     }\n\u001b[1;32m     12\u001b[0m     dataset \u001b[39m=\u001b[39m get_dataset(\u001b[39m\"\u001b[39m\u001b[39melectricity\u001b[39m\u001b[39m\"\u001b[39m, size\u001b[39m=\u001b[39m\u001b[39m1000\u001b[39m)\n\u001b[0;32m---> 14\u001b[0m     best_chromosome, num_pipelines_over_epochs, mean_per_epoch, best_per_epoch \u001b[39m=\u001b[39m genetic_algorithm(\n\u001b[1;32m     15\u001b[0m         configuration, dataset\n\u001b[1;32m     16\u001b[0m     )\n\u001b[1;32m     17\u001b[0m     plt\u001b[39m.\u001b[39mplot(\u001b[39mrange\u001b[39m(\u001b[39m30\u001b[39m), num_pipelines_over_epochs, label\u001b[39m=\u001b[39m\u001b[39mf\u001b[39m\u001b[39m\"\u001b[39m\u001b[39mp(m): \u001b[39m\u001b[39m{\u001b[39;00mmutation_probability\u001b[39m}\u001b[39;00m\u001b[39m, p(c): \u001b[39m\u001b[39m{\u001b[39;00mcrossover_probability\u001b[39m}\u001b[39;00m\u001b[39m\"\u001b[39m)\n\u001b[1;32m     18\u001b[0m plt\u001b[39m.\u001b[39mxlabel(\u001b[39m'\u001b[39m\u001b[39mepoch\u001b[39m\u001b[39m'\u001b[39m)\n",
      "File \u001b[0;32m~/Documents/Code/cornelltech/aml/TSOT/genetic/algorithm.py:22\u001b[0m, in \u001b[0;36mgenetic_algorithm\u001b[0;34m(configuration, dataset)\u001b[0m\n\u001b[1;32m     19\u001b[0m seen_pipelines \u001b[39m=\u001b[39m []\n\u001b[1;32m     21\u001b[0m \u001b[39mfor\u001b[39;00m epoch \u001b[39min\u001b[39;00m \u001b[39mrange\u001b[39m(configuration[\u001b[39m\"\u001b[39m\u001b[39mepochs\u001b[39m\u001b[39m\"\u001b[39m]):\n\u001b[0;32m---> 22\u001b[0m     population, old_scores \u001b[39m=\u001b[39m run_epoch(population, dataset, configuration)\n\u001b[1;32m     23\u001b[0m     mean_score_epoch \u001b[39m=\u001b[39m np\u001b[39m.\u001b[39mmean(old_scores)\n\u001b[1;32m     24\u001b[0m     best_score_epoch \u001b[39m=\u001b[39m old_scores[\u001b[39m0\u001b[39m]\n",
      "File \u001b[0;32m~/Documents/Code/cornelltech/aml/TSOT/genetic/algorithm.py:43\u001b[0m, in \u001b[0;36mrun_epoch\u001b[0;34m(population, dataset, configuration)\u001b[0m\n\u001b[1;32m     41\u001b[0m scores \u001b[39m=\u001b[39m []\n\u001b[1;32m     42\u001b[0m \u001b[39mfor\u001b[39;00m p \u001b[39min\u001b[39;00m tqdm(population):\n\u001b[0;32m---> 43\u001b[0m     scores\u001b[39m.\u001b[39mappend(evaluate(p, dataset\u001b[39m.\u001b[39;49mcopy(), configuration))\n\u001b[1;32m     45\u001b[0m sorted_population \u001b[39m=\u001b[39m [x \u001b[39mfor\u001b[39;00m _, x \u001b[39min\u001b[39;00m \u001b[39msorted\u001b[39m(\u001b[39mzip\u001b[39m(scores, population))]\n\u001b[1;32m     46\u001b[0m \u001b[39mprint\u001b[39m(sorted_population[\u001b[39m0\u001b[39m])\n",
      "File \u001b[0;32m~/Documents/Code/cornelltech/aml/TSOT/genetic/evaluation.py:94\u001b[0m, in \u001b[0;36mevaluate\u001b[0;34m(pipeline, dataset, configuration)\u001b[0m\n\u001b[1;32m     87\u001b[0m     model \u001b[39m=\u001b[39m ExponentialSmoothing(\n\u001b[1;32m     88\u001b[0m         inner_train,\n\u001b[1;32m     89\u001b[0m         seasonal\u001b[39m=\u001b[39m\u001b[39m\"\u001b[39m\u001b[39madd\u001b[39m\u001b[39m\"\u001b[39m,\n\u001b[1;32m     90\u001b[0m         seasonal_periods\u001b[39m=\u001b[39mconfiguration[\u001b[39m\"\u001b[39m\u001b[39mcycle_length\u001b[39m\u001b[39m\"\u001b[39m],\n\u001b[1;32m     91\u001b[0m     )\n\u001b[1;32m     92\u001b[0m     fit_model \u001b[39m=\u001b[39m model\u001b[39m.\u001b[39mfit()\n\u001b[0;32m---> 94\u001b[0m     forecast \u001b[39m=\u001b[39m fit_model\u001b[39m.\u001b[39;49mforecast(steps\u001b[39m=\u001b[39;49mconfiguration[\u001b[39m\"\u001b[39;49m\u001b[39msteps\u001b[39;49m\u001b[39m\"\u001b[39;49m])\n\u001b[1;32m     96\u001b[0m \u001b[39melif\u001b[39;00m pipeline\u001b[39m.\u001b[39mmodel \u001b[39m==\u001b[39m \u001b[39m\"\u001b[39m\u001b[39marima\u001b[39m\u001b[39m\"\u001b[39m:\n\u001b[1;32m     97\u001b[0m     model \u001b[39m=\u001b[39m ARIMA(inner_train, order\u001b[39m=\u001b[39m(\u001b[39m1\u001b[39m, \u001b[39m1\u001b[39m, \u001b[39m1\u001b[39m))\n",
      "File \u001b[0;32m~/Documents/Code/cornelltech/aml/TSOT/.venv/lib/python3.8/site-packages/statsmodels/base/wrapper.py:113\u001b[0m, in \u001b[0;36mmake_wrapper.<locals>.wrapper\u001b[0;34m(self, *args, **kwargs)\u001b[0m\n\u001b[1;32m    111\u001b[0m     obj \u001b[39m=\u001b[39m data\u001b[39m.\u001b[39mwrap_output(func(results, \u001b[39m*\u001b[39margs, \u001b[39m*\u001b[39m\u001b[39m*\u001b[39mkwargs), how[\u001b[39m0\u001b[39m], how[\u001b[39m1\u001b[39m:])\n\u001b[1;32m    112\u001b[0m \u001b[39melif\u001b[39;00m how:\n\u001b[0;32m--> 113\u001b[0m     obj \u001b[39m=\u001b[39m data\u001b[39m.\u001b[39mwrap_output(func(results, \u001b[39m*\u001b[39;49margs, \u001b[39m*\u001b[39;49m\u001b[39m*\u001b[39;49mkwargs), how)\n\u001b[1;32m    114\u001b[0m \u001b[39mreturn\u001b[39;00m obj\n",
      "File \u001b[0;32m~/Documents/Code/cornelltech/aml/TSOT/.venv/lib/python3.8/site-packages/statsmodels/tsa/holtwinters/results.py:278\u001b[0m, in \u001b[0;36mHoltWintersResults.forecast\u001b[0;34m(self, steps)\u001b[0m\n\u001b[1;32m    276\u001b[0m         start \u001b[39m=\u001b[39m \u001b[39mself\u001b[39m\u001b[39m.\u001b[39mmodel\u001b[39m.\u001b[39m_index\u001b[39m.\u001b[39mshape[\u001b[39m0\u001b[39m]\n\u001b[1;32m    277\u001b[0m         end \u001b[39m=\u001b[39m start \u001b[39m+\u001b[39m steps \u001b[39m-\u001b[39m \u001b[39m1\u001b[39m\n\u001b[0;32m--> 278\u001b[0m     \u001b[39mreturn\u001b[39;00m \u001b[39mself\u001b[39;49m\u001b[39m.\u001b[39;49mmodel\u001b[39m.\u001b[39;49mpredict(\u001b[39mself\u001b[39;49m\u001b[39m.\u001b[39;49mparams, start\u001b[39m=\u001b[39;49mstart, end\u001b[39m=\u001b[39;49mend)\n\u001b[1;32m    279\u001b[0m \u001b[39mexcept\u001b[39;00m \u001b[39mAttributeError\u001b[39;00m:\n\u001b[1;32m    280\u001b[0m     \u001b[39m# May occur when the index does not have a freq\u001b[39;00m\n\u001b[1;32m    281\u001b[0m     \u001b[39mreturn\u001b[39;00m \u001b[39mself\u001b[39m\u001b[39m.\u001b[39mmodel\u001b[39m.\u001b[39m_predict(h\u001b[39m=\u001b[39msteps, \u001b[39m*\u001b[39m\u001b[39m*\u001b[39m\u001b[39mself\u001b[39m\u001b[39m.\u001b[39mparams)\u001b[39m.\u001b[39mfcastvalues\n",
      "File \u001b[0;32m~/Documents/Code/cornelltech/aml/TSOT/.venv/lib/python3.8/site-packages/statsmodels/tsa/holtwinters/model.py:510\u001b[0m, in \u001b[0;36mExponentialSmoothing.predict\u001b[0;34m(self, params, start, end)\u001b[0m\n\u001b[1;32m    506\u001b[0m start, end, out_of_sample, _ \u001b[39m=\u001b[39m \u001b[39mself\u001b[39m\u001b[39m.\u001b[39m_get_prediction_index(\n\u001b[1;32m    507\u001b[0m     start\u001b[39m=\u001b[39mstart, end\u001b[39m=\u001b[39mend\n\u001b[1;32m    508\u001b[0m )\n\u001b[1;32m    509\u001b[0m \u001b[39mif\u001b[39;00m out_of_sample \u001b[39m>\u001b[39m \u001b[39m0\u001b[39m:\n\u001b[0;32m--> 510\u001b[0m     res \u001b[39m=\u001b[39m \u001b[39mself\u001b[39;49m\u001b[39m.\u001b[39;49m_predict(h\u001b[39m=\u001b[39;49mout_of_sample, \u001b[39m*\u001b[39;49m\u001b[39m*\u001b[39;49mparams)\n\u001b[1;32m    511\u001b[0m \u001b[39melse\u001b[39;00m:\n\u001b[1;32m    512\u001b[0m     res \u001b[39m=\u001b[39m \u001b[39mself\u001b[39m\u001b[39m.\u001b[39m_predict(h\u001b[39m=\u001b[39m\u001b[39m0\u001b[39m, \u001b[39m*\u001b[39m\u001b[39m*\u001b[39mparams)\n",
      "File \u001b[0;32m~/Documents/Code/cornelltech/aml/TSOT/.venv/lib/python3.8/site-packages/pandas/util/_decorators.py:210\u001b[0m, in \u001b[0;36mdeprecate_kwarg.<locals>._deprecate_kwarg.<locals>.wrapper\u001b[0;34m(*args, **kwargs)\u001b[0m\n\u001b[1;32m    208\u001b[0m         \u001b[39mraise\u001b[39;00m \u001b[39mTypeError\u001b[39;00m(msg)\n\u001b[1;32m    209\u001b[0m     kwargs[new_arg_name] \u001b[39m=\u001b[39m new_arg_value\n\u001b[0;32m--> 210\u001b[0m \u001b[39mreturn\u001b[39;00m func(\u001b[39m*\u001b[39;49margs, \u001b[39m*\u001b[39;49m\u001b[39m*\u001b[39;49mkwargs)\n",
      "File \u001b[0;32m~/Documents/Code/cornelltech/aml/TSOT/.venv/lib/python3.8/site-packages/pandas/util/_decorators.py:210\u001b[0m, in \u001b[0;36mdeprecate_kwarg.<locals>._deprecate_kwarg.<locals>.wrapper\u001b[0;34m(*args, **kwargs)\u001b[0m\n\u001b[1;32m    208\u001b[0m         \u001b[39mraise\u001b[39;00m \u001b[39mTypeError\u001b[39;00m(msg)\n\u001b[1;32m    209\u001b[0m     kwargs[new_arg_name] \u001b[39m=\u001b[39m new_arg_value\n\u001b[0;32m--> 210\u001b[0m \u001b[39mreturn\u001b[39;00m func(\u001b[39m*\u001b[39;49margs, \u001b[39m*\u001b[39;49m\u001b[39m*\u001b[39;49mkwargs)\n",
      "File \u001b[0;32m~/Documents/Code/cornelltech/aml/TSOT/.venv/lib/python3.8/site-packages/statsmodels/tsa/holtwinters/model.py:1365\u001b[0m, in \u001b[0;36mExponentialSmoothing._predict\u001b[0;34m(self, h, smoothing_level, smoothing_trend, smoothing_seasonal, initial_level, initial_trend, damping_trend, initial_seasons, use_boxcox, lamda, remove_bias, is_optimized)\u001b[0m\n\u001b[1;32m   1360\u001b[0m \u001b[39melif\u001b[39;00m seasonal \u001b[39m==\u001b[39m \u001b[39m\"\u001b[39m\u001b[39madd\u001b[39m\u001b[39m\"\u001b[39m:\n\u001b[1;32m   1361\u001b[0m     \u001b[39mfor\u001b[39;00m i \u001b[39min\u001b[39;00m \u001b[39mrange\u001b[39m(\u001b[39m1\u001b[39m, nobs \u001b[39m+\u001b[39m \u001b[39m1\u001b[39m):\n\u001b[1;32m   1362\u001b[0m         lvls[i] \u001b[39m=\u001b[39m (\n\u001b[1;32m   1363\u001b[0m             y_alpha[i \u001b[39m-\u001b[39m \u001b[39m1\u001b[39m]\n\u001b[1;32m   1364\u001b[0m             \u001b[39m-\u001b[39m (alpha \u001b[39m*\u001b[39m s[i \u001b[39m-\u001b[39m \u001b[39m1\u001b[39m])\n\u001b[0;32m-> 1365\u001b[0m             \u001b[39m+\u001b[39m (alphac \u001b[39m*\u001b[39m trended(lvls[i \u001b[39m-\u001b[39m \u001b[39m1\u001b[39m], dampen(b[i \u001b[39m-\u001b[39;49m \u001b[39m1\u001b[39;49m], phi)))\n\u001b[1;32m   1366\u001b[0m         )\n\u001b[1;32m   1367\u001b[0m         \u001b[39mif\u001b[39;00m has_trend:\n\u001b[1;32m   1368\u001b[0m             b[i] \u001b[39m=\u001b[39m (beta \u001b[39m*\u001b[39m detrend(lvls[i], lvls[i \u001b[39m-\u001b[39m \u001b[39m1\u001b[39m])) \u001b[39m+\u001b[39m (\n\u001b[1;32m   1369\u001b[0m                 betac \u001b[39m*\u001b[39m dampen(b[i \u001b[39m-\u001b[39m \u001b[39m1\u001b[39m], phi)\n\u001b[1;32m   1370\u001b[0m             )\n",
      "\u001b[0;31mKeyboardInterrupt\u001b[0m: "
     ]
    }
   ],
   "source": [
    "for mutation_probability, crossover_probability in [(0.1, 0.1), (0.4, 0.1), (0.1, 0.4), (0.6, 0.6)]:\n",
    "\n",
    "    configuration = {\n",
    "        \"epochs\": 30,\n",
    "        \"population_size\": 10,\n",
    "        \"steps\": 2,\n",
    "        \"mutation_prob\": mutation_probability,\n",
    "        \"crossover_prob\": crossover_probability,\n",
    "        \"cycle_length\": 24,\n",
    "    }\n",
    "\n",
    "    dataset = get_dataset(\"electricity\", size=1000)\n",
    "\n",
    "    best_chromosome, num_pipelines_over_epochs, mean_per_epoch, best_per_epoch = genetic_algorithm(\n",
    "        configuration, dataset\n",
    "    )\n",
    "    plt.plot(range(30), num_pipelines_over_epochs, label=f\"p(m): {mutation_probability}, p(c): {crossover_probability}\")\n",
    "plt.xlabel('epoch')\n",
    "plt.ylabel('number of pipelines explored')\n",
    "plt.legend()\n",
    "plt.show()"
   ]
  },
  {
   "cell_type": "code",
   "execution_count": 7,
   "metadata": {},
   "outputs": [
    {
     "name": "stderr",
     "output_type": "stream",
     "text": [
      "  0%|          | 0/10 [00:00<?, ?it/s]"
     ]
    },
    {
     "name": "stderr",
     "output_type": "stream",
     "text": [
      "100%|██████████| 10/10 [00:01<00:00,  7.52it/s]\n"
     ]
    },
    {
     "name": "stdout",
     "output_type": "stream",
     "text": [
      "['differencing'], holt_winters, {'seasonal_periods': 24}\n",
      "Epoch 0 mean: 7.46 best: 1.699\n"
     ]
    },
    {
     "name": "stderr",
     "output_type": "stream",
     "text": [
      "100%|██████████| 10/10 [00:01<00:00,  5.89it/s]\n"
     ]
    },
    {
     "name": "stdout",
     "output_type": "stream",
     "text": [
      "['differencing'], holt_winters, {'seasonal_periods': 24}\n",
      "Epoch 1 mean: 6.34 best: 1.699\n"
     ]
    },
    {
     "name": "stderr",
     "output_type": "stream",
     "text": [
      "100%|██████████| 10/10 [00:01<00:00,  6.31it/s]\n"
     ]
    },
    {
     "name": "stdout",
     "output_type": "stream",
     "text": [
      "['differencing'], holt_winters, {'seasonal_periods': 24}\n",
      "Epoch 2 mean: 7.07 best: 1.699\n"
     ]
    },
    {
     "name": "stderr",
     "output_type": "stream",
     "text": [
      "100%|██████████| 10/10 [00:01<00:00,  6.35it/s]\n"
     ]
    },
    {
     "name": "stdout",
     "output_type": "stream",
     "text": [
      "['differencing'], holt_winters, {'seasonal_periods': 24}\n",
      "Epoch 3 mean: 6.02 best: 1.699\n"
     ]
    },
    {
     "name": "stderr",
     "output_type": "stream",
     "text": [
      "100%|██████████| 10/10 [00:01<00:00,  8.57it/s]\n"
     ]
    },
    {
     "name": "stdout",
     "output_type": "stream",
     "text": [
      "['differencing'], holt_winters, {'seasonal_periods': 24}\n",
      "Epoch 4 mean: 3.91 best: 1.699\n"
     ]
    },
    {
     "name": "stderr",
     "output_type": "stream",
     "text": [
      "100%|██████████| 10/10 [00:00<00:00, 10.28it/s]\n"
     ]
    },
    {
     "name": "stdout",
     "output_type": "stream",
     "text": [
      "['differencing'], holt_winters, {'seasonal_periods': 24}\n",
      "Epoch 5 mean: 2.75 best: 1.699\n"
     ]
    },
    {
     "name": "stderr",
     "output_type": "stream",
     "text": [
      "100%|██████████| 10/10 [00:00<00:00, 10.22it/s]\n"
     ]
    },
    {
     "name": "stdout",
     "output_type": "stream",
     "text": [
      "[], holt_winters, {'seasonal_periods': 24}\n",
      "Epoch 6 mean: 2.74 best: 1.634\n"
     ]
    },
    {
     "name": "stderr",
     "output_type": "stream",
     "text": [
      "100%|██████████| 10/10 [00:00<00:00, 13.60it/s]\n"
     ]
    },
    {
     "name": "stdout",
     "output_type": "stream",
     "text": [
      "[], holt_winters, {'seasonal_periods': 24}\n",
      "Epoch 7 mean: 1.69 best: 1.634\n"
     ]
    },
    {
     "name": "stderr",
     "output_type": "stream",
     "text": [
      "100%|██████████| 10/10 [00:00<00:00, 12.62it/s]\n"
     ]
    },
    {
     "name": "stdout",
     "output_type": "stream",
     "text": [
      "[], holt_winters, {'seasonal_periods': 24}\n",
      "Epoch 8 mean: 1.66 best: 1.634\n"
     ]
    },
    {
     "name": "stderr",
     "output_type": "stream",
     "text": [
      "100%|██████████| 10/10 [00:01<00:00,  8.34it/s]\n"
     ]
    },
    {
     "name": "stdout",
     "output_type": "stream",
     "text": [
      "[], holt_winters, {'seasonal_periods': 24}\n",
      "Epoch 9 mean: 2.00 best: 1.634\n"
     ]
    },
    {
     "name": "stderr",
     "output_type": "stream",
     "text": [
      "100%|██████████| 10/10 [00:01<00:00,  5.86it/s]\n"
     ]
    },
    {
     "name": "stdout",
     "output_type": "stream",
     "text": [
      "[], holt_winters, {'seasonal_periods': 24}\n",
      "Epoch 10 mean: 2.19 best: 1.634\n"
     ]
    },
    {
     "name": "stderr",
     "output_type": "stream",
     "text": [
      "100%|██████████| 10/10 [00:01<00:00,  7.74it/s]\n"
     ]
    },
    {
     "name": "stdout",
     "output_type": "stream",
     "text": [
      "[], holt_winters, {'seasonal_periods': 24}\n",
      "Epoch 11 mean: 1.98 best: 1.634\n"
     ]
    },
    {
     "name": "stderr",
     "output_type": "stream",
     "text": [
      "100%|██████████| 10/10 [00:01<00:00,  9.08it/s]\n"
     ]
    },
    {
     "name": "stdout",
     "output_type": "stream",
     "text": [
      "[], holt_winters, {'seasonal_periods': 24}\n",
      "Epoch 12 mean: 1.88 best: 1.634\n"
     ]
    },
    {
     "name": "stderr",
     "output_type": "stream",
     "text": [
      "100%|██████████| 10/10 [00:01<00:00,  8.33it/s]\n"
     ]
    },
    {
     "name": "stdout",
     "output_type": "stream",
     "text": [
      "[], holt_winters, {'seasonal_periods': 24}\n",
      "Epoch 13 mean: 2.85 best: 1.634\n"
     ]
    },
    {
     "name": "stderr",
     "output_type": "stream",
     "text": [
      "100%|██████████| 10/10 [00:01<00:00,  8.42it/s]\n"
     ]
    },
    {
     "name": "stdout",
     "output_type": "stream",
     "text": [
      "[], holt_winters, {'seasonal_periods': 24}\n",
      "Epoch 14 mean: 2.85 best: 1.634\n"
     ]
    },
    {
     "name": "stderr",
     "output_type": "stream",
     "text": [
      "100%|██████████| 10/10 [00:00<00:00, 11.95it/s]\n"
     ]
    },
    {
     "name": "stdout",
     "output_type": "stream",
     "text": [
      "[], holt_winters, {'seasonal_periods': 24}\n",
      "Epoch 15 mean: 2.83 best: 1.634\n"
     ]
    },
    {
     "name": "stderr",
     "output_type": "stream",
     "text": [
      "100%|██████████| 10/10 [00:01<00:00,  9.54it/s]\n"
     ]
    },
    {
     "name": "stdout",
     "output_type": "stream",
     "text": [
      "[], holt_winters, {'seasonal_periods': 24}\n",
      "Epoch 16 mean: 1.88 best: 1.634\n"
     ]
    },
    {
     "name": "stderr",
     "output_type": "stream",
     "text": [
      "100%|██████████| 10/10 [00:00<00:00, 11.56it/s]\n"
     ]
    },
    {
     "name": "stdout",
     "output_type": "stream",
     "text": [
      "[], holt_winters, {'seasonal_periods': 24}\n",
      "Epoch 17 mean: 1.78 best: 1.634\n"
     ]
    },
    {
     "name": "stderr",
     "output_type": "stream",
     "text": [
      "100%|██████████| 10/10 [00:00<00:00, 11.04it/s]\n"
     ]
    },
    {
     "name": "stdout",
     "output_type": "stream",
     "text": [
      "[], holt_winters, {'seasonal_periods': 24}\n",
      "Epoch 18 mean: 1.78 best: 1.634\n"
     ]
    },
    {
     "name": "stderr",
     "output_type": "stream",
     "text": [
      "100%|██████████| 10/10 [00:00<00:00, 11.23it/s]\n"
     ]
    },
    {
     "name": "stdout",
     "output_type": "stream",
     "text": [
      "[], holt_winters, {'seasonal_periods': 24}\n",
      "Epoch 19 mean: 1.78 best: 1.634\n"
     ]
    },
    {
     "name": "stderr",
     "output_type": "stream",
     "text": [
      "100%|██████████| 10/10 [00:01<00:00,  6.51it/s]\n"
     ]
    },
    {
     "name": "stdout",
     "output_type": "stream",
     "text": [
      "['differencing'], holt_winters, {'seasonal_periods': 24}\n",
      "Epoch 0 mean: 5.18 best: 1.699\n"
     ]
    },
    {
     "name": "stderr",
     "output_type": "stream",
     "text": [
      "100%|██████████| 10/10 [00:01<00:00,  6.63it/s]\n"
     ]
    },
    {
     "name": "stdout",
     "output_type": "stream",
     "text": [
      "['differencing'], holt_winters, {'seasonal_periods': 24}\n",
      "Epoch 1 mean: 5.04 best: 1.699\n"
     ]
    },
    {
     "name": "stderr",
     "output_type": "stream",
     "text": [
      "100%|██████████| 10/10 [00:01<00:00,  6.84it/s]\n"
     ]
    },
    {
     "name": "stdout",
     "output_type": "stream",
     "text": [
      "['differencing'], holt_winters, {'seasonal_periods': 24}\n",
      "Epoch 2 mean: 4.91 best: 1.699\n"
     ]
    },
    {
     "name": "stderr",
     "output_type": "stream",
     "text": [
      "100%|██████████| 10/10 [00:01<00:00,  6.82it/s]\n"
     ]
    },
    {
     "name": "stdout",
     "output_type": "stream",
     "text": [
      "['differencing'], holt_winters, {'seasonal_periods': 24}\n",
      "Epoch 3 mean: 3.86 best: 1.699\n"
     ]
    },
    {
     "name": "stderr",
     "output_type": "stream",
     "text": [
      "100%|██████████| 10/10 [00:01<00:00,  7.97it/s]\n"
     ]
    },
    {
     "name": "stdout",
     "output_type": "stream",
     "text": [
      "['differencing'], holt_winters, {'seasonal_periods': 24}\n",
      "Epoch 4 mean: 3.03 best: 1.699\n"
     ]
    },
    {
     "name": "stderr",
     "output_type": "stream",
     "text": [
      "100%|██████████| 10/10 [00:01<00:00,  8.33it/s]\n"
     ]
    },
    {
     "name": "stdout",
     "output_type": "stream",
     "text": [
      "[], holt_winters, {'seasonal_periods': 24}\n",
      "Epoch 5 mean: 2.75 best: 1.634\n"
     ]
    },
    {
     "name": "stderr",
     "output_type": "stream",
     "text": [
      "100%|██████████| 10/10 [00:01<00:00,  9.62it/s]\n"
     ]
    },
    {
     "name": "stdout",
     "output_type": "stream",
     "text": [
      "[], holt_winters, {'seasonal_periods': 24}\n",
      "Epoch 6 mean: 2.05 best: 1.634\n"
     ]
    },
    {
     "name": "stderr",
     "output_type": "stream",
     "text": [
      "100%|██████████| 10/10 [00:01<00:00,  9.55it/s]\n"
     ]
    },
    {
     "name": "stdout",
     "output_type": "stream",
     "text": [
      "[], holt_winters, {'seasonal_periods': 24}\n",
      "Epoch 7 mean: 1.89 best: 1.634\n"
     ]
    },
    {
     "name": "stderr",
     "output_type": "stream",
     "text": [
      "100%|██████████| 10/10 [00:01<00:00,  9.53it/s]\n"
     ]
    },
    {
     "name": "stdout",
     "output_type": "stream",
     "text": [
      "[], holt_winters, {'seasonal_periods': 24}\n",
      "Epoch 8 mean: 1.89 best: 1.634\n"
     ]
    },
    {
     "name": "stderr",
     "output_type": "stream",
     "text": [
      "100%|██████████| 10/10 [00:01<00:00,  9.45it/s]\n"
     ]
    },
    {
     "name": "stdout",
     "output_type": "stream",
     "text": [
      "[], holt_winters, {'seasonal_periods': 24}\n",
      "Epoch 9 mean: 2.60 best: 1.634\n"
     ]
    },
    {
     "name": "stderr",
     "output_type": "stream",
     "text": [
      "100%|██████████| 10/10 [00:01<00:00,  9.46it/s]\n"
     ]
    },
    {
     "name": "stdout",
     "output_type": "stream",
     "text": [
      "[], holt_winters, {'seasonal_periods': 24}\n",
      "Epoch 10 mean: 3.66 best: 1.634\n"
     ]
    },
    {
     "name": "stderr",
     "output_type": "stream",
     "text": [
      "100%|██████████| 10/10 [00:01<00:00,  9.18it/s]\n"
     ]
    },
    {
     "name": "stdout",
     "output_type": "stream",
     "text": [
      "[], holt_winters, {'seasonal_periods': 24}\n",
      "Epoch 11 mean: 3.65 best: 1.634\n"
     ]
    },
    {
     "name": "stderr",
     "output_type": "stream",
     "text": [
      "100%|██████████| 10/10 [00:01<00:00,  9.17it/s]\n"
     ]
    },
    {
     "name": "stdout",
     "output_type": "stream",
     "text": [
      "[], holt_winters, {'seasonal_periods': 24}\n",
      "Epoch 12 mean: 3.65 best: 1.634\n"
     ]
    },
    {
     "name": "stderr",
     "output_type": "stream",
     "text": [
      "100%|██████████| 10/10 [00:01<00:00,  8.99it/s]\n"
     ]
    },
    {
     "name": "stdout",
     "output_type": "stream",
     "text": [
      "[], holt_winters, {'seasonal_periods': 24}\n",
      "Epoch 13 mean: 3.65 best: 1.634\n"
     ]
    },
    {
     "name": "stderr",
     "output_type": "stream",
     "text": [
      "100%|██████████| 10/10 [00:01<00:00,  9.53it/s]\n"
     ]
    },
    {
     "name": "stdout",
     "output_type": "stream",
     "text": [
      "[], holt_winters, {'seasonal_periods': 24}\n",
      "Epoch 14 mean: 3.65 best: 1.634\n"
     ]
    },
    {
     "name": "stderr",
     "output_type": "stream",
     "text": [
      "100%|██████████| 10/10 [00:00<00:00, 11.41it/s]\n"
     ]
    },
    {
     "name": "stdout",
     "output_type": "stream",
     "text": [
      "[], holt_winters, {'seasonal_periods': 24}\n",
      "Epoch 15 mean: 2.48 best: 1.634\n"
     ]
    },
    {
     "name": "stderr",
     "output_type": "stream",
     "text": [
      "100%|██████████| 10/10 [00:00<00:00, 11.49it/s]\n"
     ]
    },
    {
     "name": "stdout",
     "output_type": "stream",
     "text": [
      "[], holt_winters, {'seasonal_periods': 24}\n",
      "Epoch 16 mean: 2.48 best: 1.634\n"
     ]
    },
    {
     "name": "stderr",
     "output_type": "stream",
     "text": [
      "100%|██████████| 10/10 [00:00<00:00, 11.07it/s]\n"
     ]
    },
    {
     "name": "stdout",
     "output_type": "stream",
     "text": [
      "[], holt_winters, {'seasonal_periods': 24}\n",
      "Epoch 17 mean: 2.69 best: 1.634\n"
     ]
    },
    {
     "name": "stderr",
     "output_type": "stream",
     "text": [
      "100%|██████████| 10/10 [00:00<00:00, 11.83it/s]\n"
     ]
    },
    {
     "name": "stdout",
     "output_type": "stream",
     "text": [
      "[], holt_winters, {'seasonal_periods': 24}\n",
      "Epoch 18 mean: 3.55 best: 1.634\n"
     ]
    },
    {
     "name": "stderr",
     "output_type": "stream",
     "text": [
      "100%|██████████| 10/10 [00:00<00:00, 11.37it/s]\n"
     ]
    },
    {
     "name": "stdout",
     "output_type": "stream",
     "text": [
      "[], holt_winters, {'seasonal_periods': 24}\n",
      "Epoch 19 mean: 2.49 best: 1.634\n"
     ]
    },
    {
     "name": "stderr",
     "output_type": "stream",
     "text": [
      "100%|██████████| 10/10 [00:02<00:00,  4.79it/s]\n"
     ]
    },
    {
     "name": "stdout",
     "output_type": "stream",
     "text": [
      "['differencing'], arima, {'this': 'that', 1: 2}\n",
      "Epoch 0 mean: 8.78 best: 2.672\n"
     ]
    },
    {
     "name": "stderr",
     "output_type": "stream",
     "text": [
      "100%|██████████| 10/10 [00:02<00:00,  4.59it/s]\n"
     ]
    },
    {
     "name": "stdout",
     "output_type": "stream",
     "text": [
      "['differencing'], arima, {'this': 'that', 1: 2}\n",
      "Epoch 1 mean: 7.34 best: 2.672\n"
     ]
    },
    {
     "name": "stderr",
     "output_type": "stream",
     "text": [
      "100%|██████████| 10/10 [00:02<00:00,  4.18it/s]\n"
     ]
    },
    {
     "name": "stdout",
     "output_type": "stream",
     "text": [
      "['differencing'], arima, {'this': 'that', 1: 2}\n",
      "Epoch 2 mean: 6.37 best: 2.672\n"
     ]
    },
    {
     "name": "stderr",
     "output_type": "stream",
     "text": [
      "100%|██████████| 10/10 [00:02<00:00,  3.93it/s]\n"
     ]
    },
    {
     "name": "stdout",
     "output_type": "stream",
     "text": [
      "['differencing'], arima, {'this': 'that', 1: 2}\n",
      "Epoch 3 mean: 5.12 best: 2.672\n"
     ]
    },
    {
     "name": "stderr",
     "output_type": "stream",
     "text": [
      "100%|██████████| 10/10 [00:02<00:00,  3.40it/s]\n"
     ]
    },
    {
     "name": "stdout",
     "output_type": "stream",
     "text": [
      "['differencing'], arima, {'this': 'that', 1: 2}\n",
      "Epoch 4 mean: 4.40 best: 2.672\n"
     ]
    },
    {
     "name": "stderr",
     "output_type": "stream",
     "text": [
      "100%|██████████| 10/10 [00:02<00:00,  3.70it/s]\n"
     ]
    },
    {
     "name": "stdout",
     "output_type": "stream",
     "text": [
      "['differencing'], holt_winters, {'this': 'that', 1: 2}\n",
      "Epoch 5 mean: 4.30 best: 1.699\n"
     ]
    },
    {
     "name": "stderr",
     "output_type": "stream",
     "text": [
      "100%|██████████| 10/10 [00:02<00:00,  3.65it/s]\n"
     ]
    },
    {
     "name": "stdout",
     "output_type": "stream",
     "text": [
      "['differencing'], holt_winters, {'this': 'that', 1: 2}\n",
      "Epoch 6 mean: 3.23 best: 1.699\n"
     ]
    },
    {
     "name": "stderr",
     "output_type": "stream",
     "text": [
      "100%|██████████| 10/10 [00:02<00:00,  4.44it/s]\n"
     ]
    },
    {
     "name": "stdout",
     "output_type": "stream",
     "text": [
      "['differencing'], holt_winters, {'this': 'that', 1: 2}\n",
      "Epoch 7 mean: 3.03 best: 1.699\n"
     ]
    },
    {
     "name": "stderr",
     "output_type": "stream",
     "text": [
      "100%|██████████| 10/10 [00:01<00:00,  5.72it/s]\n"
     ]
    },
    {
     "name": "stdout",
     "output_type": "stream",
     "text": [
      "['differencing'], holt_winters, {'this': 'that', 1: 2}\n",
      "Epoch 8 mean: 2.96 best: 1.699\n"
     ]
    },
    {
     "name": "stderr",
     "output_type": "stream",
     "text": [
      "100%|██████████| 10/10 [00:01<00:00,  5.03it/s]\n"
     ]
    },
    {
     "name": "stdout",
     "output_type": "stream",
     "text": [
      "['differencing'], holt_winters, {'this': 'that', 1: 2}\n",
      "Epoch 9 mean: 3.06 best: 1.699\n"
     ]
    },
    {
     "name": "stderr",
     "output_type": "stream",
     "text": [
      "100%|██████████| 10/10 [00:01<00:00,  5.74it/s]\n"
     ]
    },
    {
     "name": "stdout",
     "output_type": "stream",
     "text": [
      "['differencing'], holt_winters, {'this': 'that', 1: 2}\n",
      "Epoch 10 mean: 2.96 best: 1.699\n"
     ]
    },
    {
     "name": "stderr",
     "output_type": "stream",
     "text": [
      "100%|██████████| 10/10 [00:01<00:00,  6.98it/s]\n"
     ]
    },
    {
     "name": "stdout",
     "output_type": "stream",
     "text": [
      "[], holt_winters, {'this': 'that', 1: 2}\n",
      "Epoch 11 mean: 2.93 best: 1.634\n"
     ]
    },
    {
     "name": "stderr",
     "output_type": "stream",
     "text": [
      "100%|██████████| 10/10 [00:01<00:00,  8.38it/s]\n"
     ]
    },
    {
     "name": "stdout",
     "output_type": "stream",
     "text": [
      "[], holt_winters, {'this': 'that', 1: 2}\n",
      "Epoch 12 mean: 1.97 best: 1.634\n"
     ]
    },
    {
     "name": "stderr",
     "output_type": "stream",
     "text": [
      "100%|██████████| 10/10 [00:01<00:00,  8.15it/s]\n"
     ]
    },
    {
     "name": "stdout",
     "output_type": "stream",
     "text": [
      "[], holt_winters, {'this': 'that', 1: 2}\n",
      "Epoch 13 mean: 1.88 best: 1.634\n"
     ]
    },
    {
     "name": "stderr",
     "output_type": "stream",
     "text": [
      "100%|██████████| 10/10 [00:01<00:00,  8.29it/s]\n"
     ]
    },
    {
     "name": "stdout",
     "output_type": "stream",
     "text": [
      "[], holt_winters, {'this': 'that', 1: 2}\n",
      "Epoch 14 mean: 1.88 best: 1.634\n"
     ]
    },
    {
     "name": "stderr",
     "output_type": "stream",
     "text": [
      "100%|██████████| 10/10 [00:01<00:00,  9.91it/s]\n"
     ]
    },
    {
     "name": "stdout",
     "output_type": "stream",
     "text": [
      "[], holt_winters, {'this': 'that', 1: 2}\n",
      "Epoch 15 mean: 1.76 best: 1.634\n"
     ]
    },
    {
     "name": "stderr",
     "output_type": "stream",
     "text": [
      "100%|██████████| 10/10 [00:00<00:00, 12.28it/s]\n"
     ]
    },
    {
     "name": "stdout",
     "output_type": "stream",
     "text": [
      "[], holt_winters, {'this': 'that', 1: 2}\n",
      "Epoch 16 mean: 2.70 best: 1.634\n"
     ]
    },
    {
     "name": "stderr",
     "output_type": "stream",
     "text": [
      "100%|██████████| 10/10 [00:00<00:00, 12.54it/s]\n"
     ]
    },
    {
     "name": "stdout",
     "output_type": "stream",
     "text": [
      "[], holt_winters, {'this': 'that', 1: 2}\n",
      "Epoch 17 mean: 3.76 best: 1.634\n"
     ]
    },
    {
     "name": "stderr",
     "output_type": "stream",
     "text": [
      "100%|██████████| 10/10 [00:01<00:00,  9.96it/s]\n"
     ]
    },
    {
     "name": "stdout",
     "output_type": "stream",
     "text": [
      "[], holt_winters, {'this': 'that', 1: 2}\n",
      "Epoch 18 mean: 3.86 best: 1.634\n"
     ]
    },
    {
     "name": "stderr",
     "output_type": "stream",
     "text": [
      "100%|██████████| 10/10 [00:00<00:00, 12.05it/s]\n"
     ]
    },
    {
     "name": "stdout",
     "output_type": "stream",
     "text": [
      "[], holt_winters, {'this': 'that', 1: 2}\n",
      "Epoch 19 mean: 3.76 best: 1.634\n"
     ]
    },
    {
     "name": "stderr",
     "output_type": "stream",
     "text": [
      "100%|██████████| 10/10 [00:01<00:00,  6.77it/s]\n"
     ]
    },
    {
     "name": "stdout",
     "output_type": "stream",
     "text": [
      "['differencing'], arima, {'this': 'that', 1: 2}\n",
      "Epoch 0 mean: 8.30 best: 2.672\n"
     ]
    },
    {
     "name": "stderr",
     "output_type": "stream",
     "text": [
      "100%|██████████| 10/10 [00:01<00:00,  6.44it/s]\n"
     ]
    },
    {
     "name": "stdout",
     "output_type": "stream",
     "text": [
      "['differencing'], arima, {'this': 'that', 1: 2}\n",
      "Epoch 1 mean: 6.42 best: 2.672\n"
     ]
    },
    {
     "name": "stderr",
     "output_type": "stream",
     "text": [
      "100%|██████████| 10/10 [00:01<00:00,  5.54it/s]\n"
     ]
    },
    {
     "name": "stdout",
     "output_type": "stream",
     "text": [
      "['differencing'], arima, {'this': 'that', 1: 2}\n",
      "Epoch 2 mean: 6.38 best: 2.672\n"
     ]
    },
    {
     "name": "stderr",
     "output_type": "stream",
     "text": [
      "100%|██████████| 10/10 [00:01<00:00,  5.51it/s]\n"
     ]
    },
    {
     "name": "stdout",
     "output_type": "stream",
     "text": [
      "['differencing'], holt_winters, {'this': 'that', 1: 2}\n",
      "Epoch 3 mean: 6.00 best: 1.699\n"
     ]
    },
    {
     "name": "stderr",
     "output_type": "stream",
     "text": [
      "100%|██████████| 10/10 [00:02<00:00,  4.94it/s]\n"
     ]
    },
    {
     "name": "stdout",
     "output_type": "stream",
     "text": [
      "['differencing'], holt_winters, {'this': 'that', 1: 2}\n",
      "Epoch 4 mean: 6.23 best: 1.699\n"
     ]
    },
    {
     "name": "stderr",
     "output_type": "stream",
     "text": [
      "100%|██████████| 10/10 [00:01<00:00,  6.03it/s]\n"
     ]
    },
    {
     "name": "stdout",
     "output_type": "stream",
     "text": [
      "['differencing'], holt_winters, {'this': 'that', 1: 2}\n",
      "Epoch 5 mean: 6.14 best: 1.699\n"
     ]
    },
    {
     "name": "stderr",
     "output_type": "stream",
     "text": [
      "100%|██████████| 10/10 [00:01<00:00,  7.68it/s]\n"
     ]
    },
    {
     "name": "stdout",
     "output_type": "stream",
     "text": [
      "['differencing'], holt_winters, {'this': 'that', 1: 2}\n",
      "Epoch 6 mean: 5.07 best: 1.699\n"
     ]
    },
    {
     "name": "stderr",
     "output_type": "stream",
     "text": [
      "100%|██████████| 10/10 [00:00<00:00, 10.15it/s]\n"
     ]
    },
    {
     "name": "stdout",
     "output_type": "stream",
     "text": [
      "['differencing'], holt_winters, {'this': 'that', 1: 2}\n",
      "Epoch 7 mean: 3.91 best: 1.699\n"
     ]
    },
    {
     "name": "stderr",
     "output_type": "stream",
     "text": [
      "100%|██████████| 10/10 [00:01<00:00,  9.96it/s]\n"
     ]
    },
    {
     "name": "stdout",
     "output_type": "stream",
     "text": [
      "[], holt_winters, {'this': 'that', 1: 2}\n",
      "Epoch 8 mean: 3.68 best: 1.634\n"
     ]
    },
    {
     "name": "stderr",
     "output_type": "stream",
     "text": [
      "100%|██████████| 10/10 [00:01<00:00,  8.50it/s]\n"
     ]
    },
    {
     "name": "stdout",
     "output_type": "stream",
     "text": [
      "[], holt_winters, {'this': 'that', 1: 2}\n",
      "Epoch 9 mean: 3.89 best: 1.634\n"
     ]
    },
    {
     "name": "stderr",
     "output_type": "stream",
     "text": [
      "100%|██████████| 10/10 [00:00<00:00, 11.34it/s]\n"
     ]
    },
    {
     "name": "stdout",
     "output_type": "stream",
     "text": [
      "[], holt_winters, {'this': 'that', 1: 2}\n",
      "Epoch 10 mean: 3.75 best: 1.634\n"
     ]
    },
    {
     "name": "stderr",
     "output_type": "stream",
     "text": [
      "100%|██████████| 10/10 [00:00<00:00, 12.17it/s]\n"
     ]
    },
    {
     "name": "stdout",
     "output_type": "stream",
     "text": [
      "[], holt_winters, {'this': 'that', 1: 2}\n",
      "Epoch 11 mean: 2.71 best: 1.634\n"
     ]
    },
    {
     "name": "stderr",
     "output_type": "stream",
     "text": [
      "100%|██████████| 10/10 [00:00<00:00, 11.62it/s]\n"
     ]
    },
    {
     "name": "stdout",
     "output_type": "stream",
     "text": [
      "[], holt_winters, {'this': 'that', 1: 2}\n",
      "Epoch 12 mean: 2.70 best: 1.634\n"
     ]
    },
    {
     "name": "stderr",
     "output_type": "stream",
     "text": [
      "100%|██████████| 10/10 [00:00<00:00, 11.67it/s]\n"
     ]
    },
    {
     "name": "stdout",
     "output_type": "stream",
     "text": [
      "[], holt_winters, {'this': 'that', 1: 2}\n",
      "Epoch 13 mean: 2.70 best: 1.634\n"
     ]
    },
    {
     "name": "stderr",
     "output_type": "stream",
     "text": [
      "100%|██████████| 10/10 [00:01<00:00,  9.46it/s]\n"
     ]
    },
    {
     "name": "stdout",
     "output_type": "stream",
     "text": [
      "[], holt_winters, {'this': 'that', 1: 2}\n",
      "Epoch 14 mean: 2.81 best: 1.634\n"
     ]
    },
    {
     "name": "stderr",
     "output_type": "stream",
     "text": [
      "100%|██████████| 10/10 [00:01<00:00,  9.17it/s]\n"
     ]
    },
    {
     "name": "stdout",
     "output_type": "stream",
     "text": [
      "[], holt_winters, {'this': 'that', 1: 2}\n",
      "Epoch 15 mean: 2.80 best: 1.634\n"
     ]
    },
    {
     "name": "stderr",
     "output_type": "stream",
     "text": [
      "100%|██████████| 10/10 [00:00<00:00, 11.13it/s]\n"
     ]
    },
    {
     "name": "stdout",
     "output_type": "stream",
     "text": [
      "[], holt_winters, {'this': 'that', 1: 2}\n",
      "Epoch 16 mean: 2.69 best: 1.634\n"
     ]
    },
    {
     "name": "stderr",
     "output_type": "stream",
     "text": [
      "100%|██████████| 10/10 [00:01<00:00,  9.02it/s]\n"
     ]
    },
    {
     "name": "stdout",
     "output_type": "stream",
     "text": [
      "[], holt_winters, {'this': 'that', 1: 2}\n",
      "Epoch 17 mean: 2.80 best: 1.634\n"
     ]
    },
    {
     "name": "stderr",
     "output_type": "stream",
     "text": [
      "100%|██████████| 10/10 [00:01<00:00,  9.40it/s]\n"
     ]
    },
    {
     "name": "stdout",
     "output_type": "stream",
     "text": [
      "[], holt_winters, {'this': 'that', 1: 2}\n",
      "Epoch 18 mean: 2.80 best: 1.634\n"
     ]
    },
    {
     "name": "stderr",
     "output_type": "stream",
     "text": [
      "100%|██████████| 10/10 [00:01<00:00,  9.37it/s]\n"
     ]
    },
    {
     "name": "stdout",
     "output_type": "stream",
     "text": [
      "[], holt_winters, {'this': 'that', 1: 2}\n",
      "Epoch 19 mean: 2.80 best: 1.634\n"
     ]
    },
    {
     "name": "stderr",
     "output_type": "stream",
     "text": [
      "100%|██████████| 10/10 [00:01<00:00,  5.32it/s]\n"
     ]
    },
    {
     "name": "stdout",
     "output_type": "stream",
     "text": [
      "['differencing'], holt_winters, {'seasonal_periods': 24}\n",
      "Epoch 0 mean: 8.83 best: 1.699\n"
     ]
    },
    {
     "name": "stderr",
     "output_type": "stream",
     "text": [
      "100%|██████████| 10/10 [00:01<00:00,  6.12it/s]\n"
     ]
    },
    {
     "name": "stdout",
     "output_type": "stream",
     "text": [
      "['differencing'], holt_winters, {'this': 'that', 1: 2}\n",
      "Epoch 1 mean: 6.73 best: 1.699\n"
     ]
    },
    {
     "name": "stderr",
     "output_type": "stream",
     "text": [
      "100%|██████████| 10/10 [00:01<00:00,  6.13it/s]\n"
     ]
    },
    {
     "name": "stdout",
     "output_type": "stream",
     "text": [
      "['differencing'], holt_winters, {'seasonal_periods': 24}\n",
      "Epoch 2 mean: 5.89 best: 1.699\n"
     ]
    },
    {
     "name": "stderr",
     "output_type": "stream",
     "text": [
      "100%|██████████| 10/10 [00:01<00:00,  6.23it/s]\n"
     ]
    },
    {
     "name": "stdout",
     "output_type": "stream",
     "text": [
      "['differencing'], holt_winters, {'this': 'that', 1: 2}\n",
      "Epoch 3 mean: 4.82 best: 1.699\n"
     ]
    },
    {
     "name": "stderr",
     "output_type": "stream",
     "text": [
      "100%|██████████| 10/10 [00:01<00:00,  7.07it/s]\n"
     ]
    },
    {
     "name": "stdout",
     "output_type": "stream",
     "text": [
      "['differencing'], holt_winters, {'seasonal_periods': 24}\n",
      "Epoch 4 mean: 3.86 best: 1.699\n"
     ]
    },
    {
     "name": "stderr",
     "output_type": "stream",
     "text": [
      "100%|██████████| 10/10 [00:01<00:00,  8.46it/s]\n"
     ]
    },
    {
     "name": "stdout",
     "output_type": "stream",
     "text": [
      "['differencing'], holt_winters, {'seasonal_periods': 24}\n",
      "Epoch 5 mean: 4.91 best: 1.699\n"
     ]
    },
    {
     "name": "stderr",
     "output_type": "stream",
     "text": [
      "100%|██████████| 10/10 [00:00<00:00, 10.53it/s]\n"
     ]
    },
    {
     "name": "stdout",
     "output_type": "stream",
     "text": [
      "['differencing'], holt_winters, {'seasonal_periods': 24}\n",
      "Epoch 6 mean: 4.73 best: 1.699\n"
     ]
    },
    {
     "name": "stderr",
     "output_type": "stream",
     "text": [
      "100%|██████████| 10/10 [00:00<00:00, 10.51it/s]\n"
     ]
    },
    {
     "name": "stdout",
     "output_type": "stream",
     "text": [
      "['differencing'], holt_winters, {'seasonal_periods': 24}\n",
      "Epoch 7 mean: 3.89 best: 1.699\n"
     ]
    },
    {
     "name": "stderr",
     "output_type": "stream",
     "text": [
      "100%|██████████| 10/10 [00:00<00:00, 10.69it/s]\n"
     ]
    },
    {
     "name": "stdout",
     "output_type": "stream",
     "text": [
      "['differencing'], holt_winters, {'seasonal_periods': 24}\n",
      "Epoch 8 mean: 3.88 best: 1.699\n"
     ]
    },
    {
     "name": "stderr",
     "output_type": "stream",
     "text": [
      "100%|██████████| 10/10 [00:01<00:00,  7.43it/s]\n"
     ]
    },
    {
     "name": "stdout",
     "output_type": "stream",
     "text": [
      "['differencing'], holt_winters, {'seasonal_periods': 24}\n",
      "Epoch 9 mean: 3.90 best: 1.699\n"
     ]
    },
    {
     "name": "stderr",
     "output_type": "stream",
     "text": [
      "100%|██████████| 10/10 [00:01<00:00,  8.77it/s]\n"
     ]
    },
    {
     "name": "stdout",
     "output_type": "stream",
     "text": [
      "[], holt_winters, {'seasonal_periods': 24}\n",
      "Epoch 10 mean: 3.79 best: 1.634\n"
     ]
    },
    {
     "name": "stderr",
     "output_type": "stream",
     "text": [
      "100%|██████████| 10/10 [00:01<00:00,  8.41it/s]\n"
     ]
    },
    {
     "name": "stdout",
     "output_type": "stream",
     "text": [
      "[], holt_winters, {'seasonal_periods': 24}\n",
      "Epoch 11 mean: 3.77 best: 1.634\n"
     ]
    },
    {
     "name": "stderr",
     "output_type": "stream",
     "text": [
      "100%|██████████| 10/10 [00:01<00:00,  8.21it/s]\n"
     ]
    },
    {
     "name": "stdout",
     "output_type": "stream",
     "text": [
      "[], holt_winters, {'seasonal_periods': 24}\n",
      "Epoch 12 mean: 3.55 best: 1.634\n"
     ]
    },
    {
     "name": "stderr",
     "output_type": "stream",
     "text": [
      "100%|██████████| 10/10 [00:01<00:00,  9.39it/s]\n"
     ]
    },
    {
     "name": "stdout",
     "output_type": "stream",
     "text": [
      "[], holt_winters, {'seasonal_periods': 24}\n",
      "Epoch 13 mean: 4.59 best: 1.634\n"
     ]
    },
    {
     "name": "stderr",
     "output_type": "stream",
     "text": [
      "100%|██████████| 10/10 [00:00<00:00, 11.79it/s]\n"
     ]
    },
    {
     "name": "stdout",
     "output_type": "stream",
     "text": [
      "[], holt_winters, {'seasonal_periods': 24}\n",
      "Epoch 14 mean: 3.54 best: 1.634\n"
     ]
    },
    {
     "name": "stderr",
     "output_type": "stream",
     "text": [
      "100%|██████████| 10/10 [00:00<00:00, 11.76it/s]\n"
     ]
    },
    {
     "name": "stdout",
     "output_type": "stream",
     "text": [
      "[], holt_winters, {'seasonal_periods': 24}\n",
      "Epoch 15 mean: 2.48 best: 1.634\n"
     ]
    },
    {
     "name": "stderr",
     "output_type": "stream",
     "text": [
      "100%|██████████| 10/10 [00:00<00:00, 11.50it/s]\n"
     ]
    },
    {
     "name": "stdout",
     "output_type": "stream",
     "text": [
      "[], holt_winters, {'seasonal_periods': 24}\n",
      "Epoch 16 mean: 2.48 best: 1.634\n"
     ]
    },
    {
     "name": "stderr",
     "output_type": "stream",
     "text": [
      "100%|██████████| 10/10 [00:00<00:00, 11.40it/s]\n"
     ]
    },
    {
     "name": "stdout",
     "output_type": "stream",
     "text": [
      "[], holt_winters, {'seasonal_periods': 24}\n",
      "Epoch 17 mean: 2.48 best: 1.634\n"
     ]
    },
    {
     "name": "stderr",
     "output_type": "stream",
     "text": [
      "100%|██████████| 10/10 [00:00<00:00, 11.04it/s]\n"
     ]
    },
    {
     "name": "stdout",
     "output_type": "stream",
     "text": [
      "[], holt_winters, {'seasonal_periods': 24}\n",
      "Epoch 18 mean: 2.47 best: 1.634\n"
     ]
    },
    {
     "name": "stderr",
     "output_type": "stream",
     "text": [
      "100%|██████████| 10/10 [00:00<00:00, 11.45it/s]\n"
     ]
    },
    {
     "name": "stdout",
     "output_type": "stream",
     "text": [
      "[], holt_winters, {'seasonal_periods': 24}\n",
      "Epoch 19 mean: 2.47 best: 1.634\n"
     ]
    },
    {
     "data": {
      "image/png": "[encoded data removed]",
      "text/plain": [
       "<Figure size 640x480 with 1 Axes>"
      ]
     },
     "metadata": {},
     "output_type": "display_data"
    }
   ],
   "source": [
    "for i in range(5):\n",
    "    \n",
    "    configuration = {\n",
    "        \"epochs\": 20,\n",
    "        \"population_size\": 10,\n",
    "        \"steps\": 5,\n",
    "        \"mutation_prob\": 0.2,\n",
    "        \"crossover_prob\": 0.2,\n",
    "        \"cycle_length\": 24,\n",
    "    }\n",
    "\n",
    "    dataset = get_dataset(\"electricity\", size=1000)\n",
    "\n",
    "    best_chromosome, num_pipelines_over_epochs, mean_per_epoch, best_per_epoch = genetic_algorithm(\n",
    "        configuration, dataset\n",
    "    )\n",
    "    plt.plot(range(20), mean_per_epoch, label=i)\n",
    "plt.xlabel('epoch')\n",
    "plt.ylabel('mean RMSE')\n",
    "plt.legend()\n",
    "plt.show()"
   ]
  },
  {
   "cell_type": "code",
   "execution_count": 4,
   "metadata": {},
   "outputs": [
    {
     "name": "stderr",
     "output_type": "stream",
     "text": [
      "100%|██████████| 10/10 [00:01<00:00,  7.54it/s]\n"
     ]
    },
    {
     "name": "stdout",
     "output_type": "stream",
     "text": [
      "['differencing'], holt_winters, {'seasonal_periods': 24}\n",
      "Epoch 0 mean: 6.79 best: 1.338\n"
     ]
    },
    {
     "name": "stderr",
     "output_type": "stream",
     "text": [
      "100%|██████████| 10/10 [00:01<00:00,  6.31it/s]\n"
     ]
    },
    {
     "name": "stdout",
     "output_type": "stream",
     "text": [
      "[], holt_winters, {'seasonal_periods': 24}\n",
      "Epoch 1 mean: 4.99 best: 1.264\n"
     ]
    },
    {
     "name": "stderr",
     "output_type": "stream",
     "text": [
      "100%|██████████| 10/10 [00:01<00:00,  7.80it/s]\n"
     ]
    },
    {
     "name": "stdout",
     "output_type": "stream",
     "text": [
      "[], holt_winters, {'seasonal_periods': 24}\n",
      "Epoch 2 mean: 3.70 best: 1.264\n"
     ]
    },
    {
     "name": "stderr",
     "output_type": "stream",
     "text": [
      "100%|██████████| 10/10 [00:01<00:00,  5.29it/s]\n"
     ]
    },
    {
     "name": "stdout",
     "output_type": "stream",
     "text": [
      "[], holt_winters, {'seasonal_periods': 24}\n",
      "Epoch 3 mean: 3.70 best: 1.264\n"
     ]
    },
    {
     "name": "stderr",
     "output_type": "stream",
     "text": [
      "100%|██████████| 10/10 [00:00<00:00, 11.66it/s]\n"
     ]
    },
    {
     "name": "stdout",
     "output_type": "stream",
     "text": [
      "[], holt_winters, {'seasonal_periods': 24}\n",
      "Epoch 4 mean: 2.50 best: 1.264\n"
     ]
    },
    {
     "name": "stderr",
     "output_type": "stream",
     "text": [
      "100%|██████████| 10/10 [00:00<00:00, 11.33it/s]\n"
     ]
    },
    {
     "name": "stdout",
     "output_type": "stream",
     "text": [
      "[], holt_winters, {'seasonal_periods': 24}\n",
      "Epoch 5 mean: 3.51 best: 1.264\n"
     ]
    },
    {
     "name": "stderr",
     "output_type": "stream",
     "text": [
      "100%|██████████| 10/10 [00:01<00:00,  9.09it/s]\n"
     ]
    },
    {
     "name": "stdout",
     "output_type": "stream",
     "text": [
      "[], holt_winters, {'seasonal_periods': 24}\n",
      "Epoch 6 mean: 2.68 best: 1.264\n"
     ]
    },
    {
     "name": "stderr",
     "output_type": "stream",
     "text": [
      "100%|██████████| 10/10 [00:01<00:00,  9.14it/s]\n"
     ]
    },
    {
     "name": "stdout",
     "output_type": "stream",
     "text": [
      "[], holt_winters, {'seasonal_periods': 24}\n",
      "Epoch 7 mean: 1.56 best: 1.264\n"
     ]
    },
    {
     "name": "stderr",
     "output_type": "stream",
     "text": [
      "100%|██████████| 10/10 [00:01<00:00,  7.71it/s]\n"
     ]
    },
    {
     "name": "stdout",
     "output_type": "stream",
     "text": [
      "[], holt_winters, {'seasonal_periods': 24}\n",
      "Epoch 8 mean: 2.77 best: 1.264\n"
     ]
    },
    {
     "name": "stderr",
     "output_type": "stream",
     "text": [
      "100%|██████████| 10/10 [00:01<00:00,  9.29it/s]\n"
     ]
    },
    {
     "name": "stdout",
     "output_type": "stream",
     "text": [
      "[], holt_winters, {'seasonal_periods': 24}\n",
      "Epoch 9 mean: 2.46 best: 1.264\n"
     ]
    },
    {
     "name": "stderr",
     "output_type": "stream",
     "text": [
      "100%|██████████| 10/10 [00:01<00:00,  9.25it/s]\n"
     ]
    },
    {
     "name": "stdout",
     "output_type": "stream",
     "text": [
      "[], holt_winters, {'seasonal_periods': 24}\n",
      "Epoch 10 mean: 1.37 best: 1.264\n"
     ]
    },
    {
     "name": "stderr",
     "output_type": "stream",
     "text": [
      "100%|██████████| 10/10 [00:01<00:00,  9.31it/s]\n"
     ]
    },
    {
     "name": "stdout",
     "output_type": "stream",
     "text": [
      "[], holt_winters, {'seasonal_periods': 24}\n",
      "Epoch 11 mean: 1.37 best: 1.264\n"
     ]
    },
    {
     "name": "stderr",
     "output_type": "stream",
     "text": [
      "100%|██████████| 10/10 [00:01<00:00,  9.21it/s]\n"
     ]
    },
    {
     "name": "stdout",
     "output_type": "stream",
     "text": [
      "[], holt_winters, {'seasonal_periods': 24}\n",
      "Epoch 12 mean: 2.27 best: 1.264\n"
     ]
    },
    {
     "name": "stderr",
     "output_type": "stream",
     "text": [
      "100%|██████████| 10/10 [00:01<00:00,  9.07it/s]\n"
     ]
    },
    {
     "name": "stdout",
     "output_type": "stream",
     "text": [
      "[], holt_winters, {'seasonal_periods': 24}\n",
      "Epoch 13 mean: 2.46 best: 1.264\n"
     ]
    },
    {
     "name": "stderr",
     "output_type": "stream",
     "text": [
      "100%|██████████| 10/10 [00:01<00:00,  9.20it/s]\n"
     ]
    },
    {
     "name": "stdout",
     "output_type": "stream",
     "text": [
      "[], holt_winters, {'seasonal_periods': 24}\n",
      "Epoch 14 mean: 3.13 best: 1.264\n"
     ]
    },
    {
     "name": "stderr",
     "output_type": "stream",
     "text": [
      "100%|██████████| 10/10 [00:01<00:00,  7.84it/s]\n"
     ]
    },
    {
     "name": "stdout",
     "output_type": "stream",
     "text": [
      "[], holt_winters, {'seasonal_periods': 24}\n",
      "Epoch 15 mean: 3.22 best: 1.264\n"
     ]
    },
    {
     "name": "stderr",
     "output_type": "stream",
     "text": [
      "100%|██████████| 10/10 [00:01<00:00,  9.08it/s]\n"
     ]
    },
    {
     "name": "stdout",
     "output_type": "stream",
     "text": [
      "[], holt_winters, {'seasonal_periods': 24}\n",
      "Epoch 16 mean: 3.13 best: 1.264\n"
     ]
    },
    {
     "name": "stderr",
     "output_type": "stream",
     "text": [
      "100%|██████████| 10/10 [00:01<00:00,  7.57it/s]\n"
     ]
    },
    {
     "name": "stdout",
     "output_type": "stream",
     "text": [
      "[], holt_winters, {'seasonal_periods': 24}\n",
      "Epoch 17 mean: 2.36 best: 1.264\n"
     ]
    },
    {
     "name": "stderr",
     "output_type": "stream",
     "text": [
      "100%|██████████| 10/10 [00:01<00:00,  9.20it/s]\n"
     ]
    },
    {
     "name": "stdout",
     "output_type": "stream",
     "text": [
      "[], holt_winters, {'seasonal_periods': 24}\n",
      "Epoch 18 mean: 2.26 best: 1.264\n"
     ]
    },
    {
     "name": "stderr",
     "output_type": "stream",
     "text": [
      "100%|██████████| 10/10 [00:01<00:00,  9.12it/s]\n"
     ]
    },
    {
     "name": "stdout",
     "output_type": "stream",
     "text": [
      "[], holt_winters, {'seasonal_periods': 24}\n",
      "Epoch 19 mean: 2.26 best: 1.264\n"
     ]
    },
    {
     "name": "stderr",
     "output_type": "stream",
     "text": [
      "100%|██████████| 10/10 [00:02<00:00,  4.84it/s]\n"
     ]
    },
    {
     "name": "stdout",
     "output_type": "stream",
     "text": [
      "['seasonal_decomposition'], arima, {'this': 'that', 1: 2}\n",
      "Epoch 0 mean: 10.79 best: 3.265\n"
     ]
    },
    {
     "name": "stderr",
     "output_type": "stream",
     "text": [
      "100%|██████████| 10/10 [00:01<00:00,  5.01it/s]\n"
     ]
    },
    {
     "name": "stdout",
     "output_type": "stream",
     "text": [
      "[], arima, {'this': 'that', 1: 2}\n",
      "Epoch 1 mean: 8.87 best: 2.236\n"
     ]
    },
    {
     "name": "stderr",
     "output_type": "stream",
     "text": [
      "100%|██████████| 10/10 [00:02<00:00,  4.17it/s]\n"
     ]
    },
    {
     "name": "stdout",
     "output_type": "stream",
     "text": [
      "[], arima, {'this': 'that', 1: 2}\n",
      "Epoch 2 mean: 7.83 best: 2.236\n"
     ]
    },
    {
     "name": "stderr",
     "output_type": "stream",
     "text": [
      "100%|██████████| 10/10 [00:02<00:00,  3.79it/s]\n"
     ]
    },
    {
     "name": "stdout",
     "output_type": "stream",
     "text": [
      "[], arima, {'this': 'that', 1: 2}\n",
      "Epoch 3 mean: 6.63 best: 2.236\n"
     ]
    },
    {
     "name": "stderr",
     "output_type": "stream",
     "text": [
      "100%|██████████| 10/10 [00:02<00:00,  4.30it/s]\n"
     ]
    },
    {
     "name": "stdout",
     "output_type": "stream",
     "text": [
      "[], arima, {'this': 'that', 1: 2}\n",
      "Epoch 4 mean: 5.74 best: 2.236\n"
     ]
    },
    {
     "name": "stderr",
     "output_type": "stream",
     "text": [
      "100%|██████████| 10/10 [00:02<00:00,  4.22it/s]\n"
     ]
    },
    {
     "name": "stdout",
     "output_type": "stream",
     "text": [
      "[], holt_winters, {'this': 'that', 1: 2}\n",
      "Epoch 5 mean: 4.84 best: 1.264\n"
     ]
    },
    {
     "name": "stderr",
     "output_type": "stream",
     "text": [
      "100%|██████████| 10/10 [00:02<00:00,  4.22it/s]\n"
     ]
    },
    {
     "name": "stdout",
     "output_type": "stream",
     "text": [
      "[], holt_winters, {'this': 'that', 1: 2}\n",
      "Epoch 6 mean: 4.72 best: 1.264\n"
     ]
    },
    {
     "name": "stderr",
     "output_type": "stream",
     "text": [
      "100%|██████████| 10/10 [00:01<00:00,  5.07it/s]\n"
     ]
    },
    {
     "name": "stdout",
     "output_type": "stream",
     "text": [
      "[], holt_winters, {'this': 'that', 1: 2}\n",
      "Epoch 7 mean: 3.32 best: 1.264\n"
     ]
    },
    {
     "name": "stderr",
     "output_type": "stream",
     "text": [
      "100%|██████████| 10/10 [00:01<00:00,  6.50it/s]\n"
     ]
    },
    {
     "name": "stdout",
     "output_type": "stream",
     "text": [
      "[], holt_winters, {'this': 'that', 1: 2}\n",
      "Epoch 8 mean: 4.25 best: 1.264\n"
     ]
    },
    {
     "name": "stderr",
     "output_type": "stream",
     "text": [
      "100%|██████████| 10/10 [00:01<00:00,  7.61it/s]\n"
     ]
    },
    {
     "name": "stdout",
     "output_type": "stream",
     "text": [
      "[], holt_winters, {'this': 'that', 1: 2}\n",
      "Epoch 9 mean: 5.39 best: 1.264\n"
     ]
    },
    {
     "name": "stderr",
     "output_type": "stream",
     "text": [
      "100%|██████████| 10/10 [00:01<00:00,  7.42it/s]\n"
     ]
    },
    {
     "name": "stdout",
     "output_type": "stream",
     "text": [
      "[], holt_winters, {'this': 'that', 1: 2}\n",
      "Epoch 10 mean: 4.49 best: 1.264\n"
     ]
    },
    {
     "name": "stderr",
     "output_type": "stream",
     "text": [
      "100%|██████████| 10/10 [00:01<00:00,  8.79it/s]\n"
     ]
    },
    {
     "name": "stdout",
     "output_type": "stream",
     "text": [
      "[], holt_winters, {'this': 'that', 1: 2}\n",
      "Epoch 11 mean: 2.49 best: 1.264\n"
     ]
    },
    {
     "name": "stderr",
     "output_type": "stream",
     "text": [
      "100%|██████████| 10/10 [00:01<00:00,  7.38it/s]\n"
     ]
    },
    {
     "name": "stdout",
     "output_type": "stream",
     "text": [
      "[], holt_winters, {'this': 'that', 1: 2}\n",
      "Epoch 12 mean: 3.38 best: 1.264\n"
     ]
    },
    {
     "name": "stderr",
     "output_type": "stream",
     "text": [
      "100%|██████████| 10/10 [00:00<00:00, 11.12it/s]\n"
     ]
    },
    {
     "name": "stdout",
     "output_type": "stream",
     "text": [
      "[], holt_winters, {'this': 'that', 1: 2}\n",
      "Epoch 13 mean: 2.33 best: 1.264\n"
     ]
    },
    {
     "name": "stderr",
     "output_type": "stream",
     "text": [
      "100%|██████████| 10/10 [00:00<00:00, 11.19it/s]\n"
     ]
    },
    {
     "name": "stdout",
     "output_type": "stream",
     "text": [
      "[], holt_winters, {'this': 'that', 1: 2}\n",
      "Epoch 14 mean: 2.33 best: 1.264\n"
     ]
    },
    {
     "name": "stderr",
     "output_type": "stream",
     "text": [
      "100%|██████████| 10/10 [00:01<00:00,  7.59it/s]\n"
     ]
    },
    {
     "name": "stdout",
     "output_type": "stream",
     "text": [
      "[], holt_winters, {'this': 'that', 1: 2}\n",
      "Epoch 15 mean: 3.22 best: 1.264\n"
     ]
    },
    {
     "name": "stderr",
     "output_type": "stream",
     "text": [
      "100%|██████████| 10/10 [00:01<00:00,  9.07it/s]\n"
     ]
    },
    {
     "name": "stdout",
     "output_type": "stream",
     "text": [
      "[], holt_winters, {'this': 'that', 1: 2}\n",
      "Epoch 16 mean: 2.26 best: 1.264\n"
     ]
    },
    {
     "name": "stderr",
     "output_type": "stream",
     "text": [
      "100%|██████████| 10/10 [00:01<00:00,  7.57it/s]\n"
     ]
    },
    {
     "name": "stdout",
     "output_type": "stream",
     "text": [
      "[], holt_winters, {'this': 'that', 1: 2}\n",
      "Epoch 17 mean: 2.36 best: 1.264\n"
     ]
    },
    {
     "name": "stderr",
     "output_type": "stream",
     "text": [
      "100%|██████████| 10/10 [00:01<00:00,  7.37it/s]\n"
     ]
    },
    {
     "name": "stdout",
     "output_type": "stream",
     "text": [
      "[], holt_winters, {'this': 'that', 1: 2}\n",
      "Epoch 18 mean: 3.44 best: 1.264\n"
     ]
    },
    {
     "name": "stderr",
     "output_type": "stream",
     "text": [
      "100%|██████████| 10/10 [00:01<00:00,  8.50it/s]\n"
     ]
    },
    {
     "name": "stdout",
     "output_type": "stream",
     "text": [
      "[], holt_winters, {'this': 'that', 1: 2}\n",
      "Epoch 19 mean: 3.38 best: 1.264\n"
     ]
    },
    {
     "name": "stderr",
     "output_type": "stream",
     "text": [
      "100%|██████████| 10/10 [00:02<00:00,  4.71it/s]\n"
     ]
    },
    {
     "name": "stdout",
     "output_type": "stream",
     "text": [
      "['differencing'], arima, {'this': 'that', 1: 2}\n",
      "Epoch 0 mean: 7.93 best: 2.145\n"
     ]
    },
    {
     "name": "stderr",
     "output_type": "stream",
     "text": [
      "100%|██████████| 10/10 [00:02<00:00,  4.47it/s]\n"
     ]
    },
    {
     "name": "stdout",
     "output_type": "stream",
     "text": [
      "['differencing'], holt_winters, {'this': 'that', 1: 2}\n",
      "Epoch 1 mean: 6.72 best: 1.338\n"
     ]
    },
    {
     "name": "stderr",
     "output_type": "stream",
     "text": [
      "100%|██████████| 10/10 [00:02<00:00,  4.70it/s]\n"
     ]
    },
    {
     "name": "stdout",
     "output_type": "stream",
     "text": [
      "['differencing'], holt_winters, {'this': 'that', 1: 2}\n",
      "Epoch 2 mean: 4.74 best: 1.338\n"
     ]
    },
    {
     "name": "stderr",
     "output_type": "stream",
     "text": [
      "100%|██████████| 10/10 [00:02<00:00,  4.77it/s]\n"
     ]
    },
    {
     "name": "stdout",
     "output_type": "stream",
     "text": [
      "['differencing'], holt_winters, {'this': 'that', 1: 2}\n",
      "Epoch 3 mean: 3.06 best: 1.338\n"
     ]
    },
    {
     "name": "stderr",
     "output_type": "stream",
     "text": [
      "100%|██████████| 10/10 [00:01<00:00,  5.37it/s]\n"
     ]
    },
    {
     "name": "stdout",
     "output_type": "stream",
     "text": [
      "['differencing'], holt_winters, {'this': 'that', 1: 2}\n",
      "Epoch 4 mean: 2.98 best: 1.338\n"
     ]
    },
    {
     "name": "stderr",
     "output_type": "stream",
     "text": [
      "100%|██████████| 10/10 [00:01<00:00,  6.10it/s]\n"
     ]
    },
    {
     "name": "stdout",
     "output_type": "stream",
     "text": [
      "['differencing'], holt_winters, {'this': 'that', 1: 2}\n",
      "Epoch 5 mean: 2.70 best: 1.338\n"
     ]
    },
    {
     "name": "stderr",
     "output_type": "stream",
     "text": [
      "100%|██████████| 10/10 [00:01<00:00,  7.12it/s]\n"
     ]
    },
    {
     "name": "stdout",
     "output_type": "stream",
     "text": [
      "['differencing'], holt_winters, {'this': 'that', 1: 2}\n",
      "Epoch 6 mean: 2.61 best: 1.338\n"
     ]
    },
    {
     "name": "stderr",
     "output_type": "stream",
     "text": [
      "100%|██████████| 10/10 [00:00<00:00, 10.21it/s]\n"
     ]
    },
    {
     "name": "stdout",
     "output_type": "stream",
     "text": [
      "['differencing'], holt_winters, {'this': 'that', 1: 2}\n",
      "Epoch 7 mean: 2.54 best: 1.338\n"
     ]
    },
    {
     "name": "stderr",
     "output_type": "stream",
     "text": [
      "100%|██████████| 10/10 [00:01<00:00,  9.88it/s]\n"
     ]
    },
    {
     "name": "stdout",
     "output_type": "stream",
     "text": [
      "[], holt_winters, {'this': 'that', 1: 2}\n",
      "Epoch 8 mean: 2.63 best: 1.264\n"
     ]
    },
    {
     "name": "stderr",
     "output_type": "stream",
     "text": [
      "100%|██████████| 10/10 [00:01<00:00,  9.70it/s]\n"
     ]
    },
    {
     "name": "stdout",
     "output_type": "stream",
     "text": [
      "[], holt_winters, {'this': 'that', 1: 2}\n",
      "Epoch 9 mean: 1.51 best: 1.264\n"
     ]
    },
    {
     "name": "stderr",
     "output_type": "stream",
     "text": [
      "100%|██████████| 10/10 [00:01<00:00,  9.34it/s]\n"
     ]
    },
    {
     "name": "stdout",
     "output_type": "stream",
     "text": [
      "[], holt_winters, {'this': 'that', 1: 2}\n",
      "Epoch 10 mean: 1.59 best: 1.264\n"
     ]
    },
    {
     "name": "stderr",
     "output_type": "stream",
     "text": [
      "100%|██████████| 10/10 [00:00<00:00, 10.05it/s]\n"
     ]
    },
    {
     "name": "stdout",
     "output_type": "stream",
     "text": [
      "[], holt_winters, {'this': 'that', 1: 2}\n",
      "Epoch 11 mean: 3.62 best: 1.264\n"
     ]
    },
    {
     "name": "stderr",
     "output_type": "stream",
     "text": [
      "100%|██████████| 10/10 [00:01<00:00,  7.82it/s]\n"
     ]
    },
    {
     "name": "stdout",
     "output_type": "stream",
     "text": [
      "[], holt_winters, {'this': 'that', 1: 2}\n",
      "Epoch 12 mean: 3.48 best: 1.264\n"
     ]
    },
    {
     "name": "stderr",
     "output_type": "stream",
     "text": [
      "100%|██████████| 10/10 [00:01<00:00,  6.31it/s]\n"
     ]
    },
    {
     "name": "stdout",
     "output_type": "stream",
     "text": [
      "[], holt_winters, {'this': 'that', 1: 2}\n",
      "Epoch 13 mean: 2.74 best: 1.264\n"
     ]
    },
    {
     "name": "stderr",
     "output_type": "stream",
     "text": [
      "100%|██████████| 10/10 [00:01<00:00,  6.46it/s]\n"
     ]
    },
    {
     "name": "stdout",
     "output_type": "stream",
     "text": [
      "[], holt_winters, {'this': 'that', 1: 2}\n",
      "Epoch 14 mean: 2.55 best: 1.264\n"
     ]
    },
    {
     "name": "stderr",
     "output_type": "stream",
     "text": [
      "100%|██████████| 10/10 [00:01<00:00,  7.63it/s]\n"
     ]
    },
    {
     "name": "stdout",
     "output_type": "stream",
     "text": [
      "[], holt_winters, {'this': 'that', 1: 2}\n",
      "Epoch 15 mean: 3.59 best: 1.264\n"
     ]
    },
    {
     "name": "stderr",
     "output_type": "stream",
     "text": [
      "100%|██████████| 10/10 [00:01<00:00,  6.67it/s]\n"
     ]
    },
    {
     "name": "stdout",
     "output_type": "stream",
     "text": [
      "[], holt_winters, {'this': 'that', 1: 2}\n",
      "Epoch 16 mean: 3.68 best: 1.264\n"
     ]
    },
    {
     "name": "stderr",
     "output_type": "stream",
     "text": [
      "100%|██████████| 10/10 [00:01<00:00,  6.64it/s]\n"
     ]
    },
    {
     "name": "stdout",
     "output_type": "stream",
     "text": [
      "[], holt_winters, {'this': 'that', 1: 2}\n",
      "Epoch 17 mean: 2.56 best: 1.264\n"
     ]
    },
    {
     "name": "stderr",
     "output_type": "stream",
     "text": [
      "100%|██████████| 10/10 [00:01<00:00,  6.57it/s]\n"
     ]
    },
    {
     "name": "stdout",
     "output_type": "stream",
     "text": [
      "[], holt_winters, {'this': 'that', 1: 2}\n",
      "Epoch 18 mean: 2.56 best: 1.264\n"
     ]
    },
    {
     "name": "stderr",
     "output_type": "stream",
     "text": [
      "100%|██████████| 10/10 [00:01<00:00,  8.03it/s]\n"
     ]
    },
    {
     "name": "stdout",
     "output_type": "stream",
     "text": [
      "[], holt_winters, {'this': 'that', 1: 2}\n",
      "Epoch 19 mean: 2.58 best: 1.264\n"
     ]
    },
    {
     "name": "stderr",
     "output_type": "stream",
     "text": [
      "100%|██████████| 10/10 [00:01<00:00,  6.70it/s]\n"
     ]
    },
    {
     "name": "stdout",
     "output_type": "stream",
     "text": [
      "['differencing'], holt_winters, {'seasonal_periods': 24}\n",
      "Epoch 0 mean: 7.09 best: 1.338\n"
     ]
    },
    {
     "name": "stderr",
     "output_type": "stream",
     "text": [
      "100%|██████████| 10/10 [00:01<00:00,  5.15it/s]\n"
     ]
    },
    {
     "name": "stdout",
     "output_type": "stream",
     "text": [
      "['differencing'], holt_winters, {'seasonal_periods': 24}\n",
      "Epoch 1 mean: 6.77 best: 1.338\n"
     ]
    },
    {
     "name": "stderr",
     "output_type": "stream",
     "text": [
      "100%|██████████| 10/10 [00:01<00:00,  5.61it/s]\n"
     ]
    },
    {
     "name": "stdout",
     "output_type": "stream",
     "text": [
      "['differencing'], holt_winters, {'seasonal_periods': 24}\n",
      "Epoch 2 mean: 5.73 best: 1.338\n"
     ]
    },
    {
     "name": "stderr",
     "output_type": "stream",
     "text": [
      "100%|██████████| 10/10 [00:01<00:00,  5.44it/s]\n"
     ]
    },
    {
     "name": "stdout",
     "output_type": "stream",
     "text": [
      "['differencing'], holt_winters, {'seasonal_periods': 24}\n",
      "Epoch 3 mean: 4.81 best: 1.338\n"
     ]
    },
    {
     "name": "stderr",
     "output_type": "stream",
     "text": [
      "100%|██████████| 10/10 [00:02<00:00,  4.27it/s]\n"
     ]
    },
    {
     "name": "stdout",
     "output_type": "stream",
     "text": [
      "['differencing'], holt_winters, {'seasonal_periods': 24}\n",
      "Epoch 4 mean: 3.85 best: 1.338\n"
     ]
    },
    {
     "name": "stderr",
     "output_type": "stream",
     "text": [
      "100%|██████████| 10/10 [00:02<00:00,  4.25it/s]\n"
     ]
    },
    {
     "name": "stdout",
     "output_type": "stream",
     "text": [
      "[], holt_winters, {'seasonal_periods': 24}\n",
      "Epoch 5 mean: 3.84 best: 1.264\n"
     ]
    },
    {
     "name": "stderr",
     "output_type": "stream",
     "text": [
      "100%|██████████| 10/10 [00:02<00:00,  4.36it/s]\n"
     ]
    },
    {
     "name": "stdout",
     "output_type": "stream",
     "text": [
      "[], holt_winters, {'seasonal_periods': 24}\n",
      "Epoch 6 mean: 3.66 best: 1.264\n"
     ]
    },
    {
     "name": "stderr",
     "output_type": "stream",
     "text": [
      "100%|██████████| 10/10 [00:01<00:00,  5.60it/s]\n"
     ]
    },
    {
     "name": "stdout",
     "output_type": "stream",
     "text": [
      "[], holt_winters, {'seasonal_periods': 24}\n",
      "Epoch 7 mean: 3.55 best: 1.264\n"
     ]
    },
    {
     "name": "stderr",
     "output_type": "stream",
     "text": [
      "100%|██████████| 10/10 [00:01<00:00,  7.91it/s]\n"
     ]
    },
    {
     "name": "stdout",
     "output_type": "stream",
     "text": [
      "[], holt_winters, {'seasonal_periods': 24}\n",
      "Epoch 8 mean: 2.46 best: 1.264\n"
     ]
    },
    {
     "name": "stderr",
     "output_type": "stream",
     "text": [
      "100%|██████████| 10/10 [00:01<00:00,  9.13it/s]\n"
     ]
    },
    {
     "name": "stdout",
     "output_type": "stream",
     "text": [
      "[], holt_winters, {'seasonal_periods': 24}\n",
      "Epoch 9 mean: 2.36 best: 1.264\n"
     ]
    },
    {
     "name": "stderr",
     "output_type": "stream",
     "text": [
      "100%|██████████| 10/10 [00:01<00:00,  9.56it/s]\n"
     ]
    },
    {
     "name": "stdout",
     "output_type": "stream",
     "text": [
      "[], holt_winters, {'seasonal_periods': 24}\n",
      "Epoch 10 mean: 2.69 best: 1.264\n"
     ]
    },
    {
     "name": "stderr",
     "output_type": "stream",
     "text": [
      "100%|██████████| 10/10 [00:01<00:00,  9.44it/s]\n"
     ]
    },
    {
     "name": "stdout",
     "output_type": "stream",
     "text": [
      "[], holt_winters, {'seasonal_periods': 24}\n",
      "Epoch 11 mean: 2.49 best: 1.264\n"
     ]
    },
    {
     "name": "stderr",
     "output_type": "stream",
     "text": [
      "100%|██████████| 10/10 [00:01<00:00,  9.03it/s]\n"
     ]
    },
    {
     "name": "stdout",
     "output_type": "stream",
     "text": [
      "[], holt_winters, {'seasonal_periods': 24}\n",
      "Epoch 12 mean: 2.48 best: 1.264\n"
     ]
    },
    {
     "name": "stderr",
     "output_type": "stream",
     "text": [
      "100%|██████████| 10/10 [00:01<00:00,  6.55it/s]\n"
     ]
    },
    {
     "name": "stdout",
     "output_type": "stream",
     "text": [
      "[], holt_winters, {'seasonal_periods': 24}\n",
      "Epoch 13 mean: 1.55 best: 1.264\n"
     ]
    },
    {
     "name": "stderr",
     "output_type": "stream",
     "text": [
      "100%|██████████| 10/10 [00:01<00:00,  6.83it/s]\n"
     ]
    },
    {
     "name": "stdout",
     "output_type": "stream",
     "text": [
      "[], holt_winters, {'seasonal_periods': 24}\n",
      "Epoch 14 mean: 1.57 best: 1.264\n"
     ]
    },
    {
     "name": "stderr",
     "output_type": "stream",
     "text": [
      "100%|██████████| 10/10 [00:01<00:00,  8.11it/s]\n"
     ]
    },
    {
     "name": "stdout",
     "output_type": "stream",
     "text": [
      "[], holt_winters, {'seasonal_periods': 24}\n",
      "Epoch 15 mean: 1.48 best: 1.264\n"
     ]
    },
    {
     "name": "stderr",
     "output_type": "stream",
     "text": [
      "100%|██████████| 10/10 [00:01<00:00,  8.11it/s]\n"
     ]
    },
    {
     "name": "stdout",
     "output_type": "stream",
     "text": [
      "[], holt_winters, {'seasonal_periods': 24}\n",
      "Epoch 16 mean: 2.58 best: 1.264\n"
     ]
    },
    {
     "name": "stderr",
     "output_type": "stream",
     "text": [
      "100%|██████████| 10/10 [00:01<00:00,  5.90it/s]\n"
     ]
    },
    {
     "name": "stdout",
     "output_type": "stream",
     "text": [
      "[], holt_winters, {'seasonal_periods': 24}\n",
      "Epoch 17 mean: 2.57 best: 1.264\n"
     ]
    },
    {
     "name": "stderr",
     "output_type": "stream",
     "text": [
      "100%|██████████| 10/10 [00:01<00:00,  5.83it/s]\n"
     ]
    },
    {
     "name": "stdout",
     "output_type": "stream",
     "text": [
      "[], holt_winters, {'seasonal_periods': 24}\n",
      "Epoch 18 mean: 2.57 best: 1.264\n"
     ]
    },
    {
     "name": "stderr",
     "output_type": "stream",
     "text": [
      "100%|██████████| 10/10 [00:01<00:00,  5.85it/s]\n"
     ]
    },
    {
     "name": "stdout",
     "output_type": "stream",
     "text": [
      "[], holt_winters, {'seasonal_periods': 24}\n",
      "Epoch 19 mean: 2.57 best: 1.264\n"
     ]
    },
    {
     "name": "stderr",
     "output_type": "stream",
     "text": [
      "100%|██████████| 10/10 [00:01<00:00,  5.62it/s]\n"
     ]
    },
    {
     "name": "stdout",
     "output_type": "stream",
     "text": [
      "['differencing'], holt_winters, {'seasonal_periods': 24}\n",
      "Epoch 0 mean: 8.78 best: 1.338\n"
     ]
    },
    {
     "name": "stderr",
     "output_type": "stream",
     "text": [
      "100%|██████████| 10/10 [00:01<00:00,  5.39it/s]\n"
     ]
    },
    {
     "name": "stdout",
     "output_type": "stream",
     "text": [
      "['differencing'], holt_winters, {'seasonal_periods': 24}\n",
      "Epoch 1 mean: 6.27 best: 1.338\n"
     ]
    },
    {
     "name": "stderr",
     "output_type": "stream",
     "text": [
      "100%|██████████| 10/10 [00:02<00:00,  4.21it/s]\n"
     ]
    },
    {
     "name": "stdout",
     "output_type": "stream",
     "text": [
      "[], holt_winters, {'seasonal_periods': 24}\n",
      "Epoch 2 mean: 5.18 best: 1.264\n"
     ]
    },
    {
     "name": "stderr",
     "output_type": "stream",
     "text": [
      "100%|██████████| 10/10 [00:02<00:00,  4.42it/s]\n"
     ]
    },
    {
     "name": "stdout",
     "output_type": "stream",
     "text": [
      "[], holt_winters, {'seasonal_periods': 24}\n",
      "Epoch 3 mean: 4.76 best: 1.264\n"
     ]
    },
    {
     "name": "stderr",
     "output_type": "stream",
     "text": [
      "100%|██████████| 10/10 [00:02<00:00,  4.47it/s]\n"
     ]
    },
    {
     "name": "stdout",
     "output_type": "stream",
     "text": [
      "[], holt_winters, {'seasonal_periods': 24}\n",
      "Epoch 4 mean: 5.87 best: 1.264\n"
     ]
    },
    {
     "name": "stderr",
     "output_type": "stream",
     "text": [
      "100%|██████████| 10/10 [00:02<00:00,  3.82it/s]\n"
     ]
    },
    {
     "name": "stdout",
     "output_type": "stream",
     "text": [
      "[], holt_winters, {'seasonal_periods': 24}\n",
      "Epoch 5 mean: 5.57 best: 1.264\n"
     ]
    },
    {
     "name": "stderr",
     "output_type": "stream",
     "text": [
      "100%|██████████| 10/10 [00:01<00:00,  5.43it/s]\n"
     ]
    },
    {
     "name": "stdout",
     "output_type": "stream",
     "text": [
      "[], holt_winters, {'seasonal_periods': 24}\n",
      "Epoch 6 mean: 4.68 best: 1.264\n"
     ]
    },
    {
     "name": "stderr",
     "output_type": "stream",
     "text": [
      "100%|██████████| 10/10 [00:01<00:00,  6.19it/s]\n"
     ]
    },
    {
     "name": "stdout",
     "output_type": "stream",
     "text": [
      "[], holt_winters, {'seasonal_periods': 24}\n",
      "Epoch 7 mean: 3.70 best: 1.264\n"
     ]
    },
    {
     "name": "stderr",
     "output_type": "stream",
     "text": [
      "100%|██████████| 10/10 [00:02<00:00,  4.96it/s]\n"
     ]
    },
    {
     "name": "stdout",
     "output_type": "stream",
     "text": [
      "[], holt_winters, {'seasonal_periods': 24}\n",
      "Epoch 8 mean: 3.53 best: 1.264\n"
     ]
    },
    {
     "name": "stderr",
     "output_type": "stream",
     "text": [
      "100%|██████████| 10/10 [00:01<00:00,  5.00it/s]\n"
     ]
    },
    {
     "name": "stdout",
     "output_type": "stream",
     "text": [
      "[], holt_winters, {'this': 'that', 1: 2}\n",
      "Epoch 9 mean: 4.78 best: 1.264\n"
     ]
    },
    {
     "name": "stderr",
     "output_type": "stream",
     "text": [
      "100%|██████████| 10/10 [00:01<00:00,  6.62it/s]\n"
     ]
    },
    {
     "name": "stdout",
     "output_type": "stream",
     "text": [
      "[], holt_winters, {'seasonal_periods': 24}\n",
      "Epoch 10 mean: 2.63 best: 1.264\n"
     ]
    },
    {
     "name": "stderr",
     "output_type": "stream",
     "text": [
      "100%|██████████| 10/10 [00:01<00:00,  5.61it/s]\n"
     ]
    },
    {
     "name": "stdout",
     "output_type": "stream",
     "text": [
      "[], holt_winters, {'this': 'that', 1: 2}\n",
      "Epoch 11 mean: 2.61 best: 1.264\n"
     ]
    },
    {
     "name": "stderr",
     "output_type": "stream",
     "text": [
      "100%|██████████| 10/10 [00:01<00:00,  6.65it/s]\n"
     ]
    },
    {
     "name": "stdout",
     "output_type": "stream",
     "text": [
      "[], holt_winters, {'seasonal_periods': 24}\n",
      "Epoch 12 mean: 5.84 best: 1.264\n"
     ]
    },
    {
     "name": "stderr",
     "output_type": "stream",
     "text": [
      "100%|██████████| 10/10 [00:00<00:00, 11.93it/s]\n"
     ]
    },
    {
     "name": "stdout",
     "output_type": "stream",
     "text": [
      "[], holt_winters, {'seasonal_periods': 24}\n",
      "Epoch 13 mean: 5.64 best: 1.264\n"
     ]
    },
    {
     "name": "stderr",
     "output_type": "stream",
     "text": [
      "100%|██████████| 10/10 [00:00<00:00, 11.53it/s]\n"
     ]
    },
    {
     "name": "stdout",
     "output_type": "stream",
     "text": [
      "[], holt_winters, {'seasonal_periods': 24}\n",
      "Epoch 14 mean: 4.19 best: 1.264\n"
     ]
    },
    {
     "name": "stderr",
     "output_type": "stream",
     "text": [
      "100%|██████████| 10/10 [00:01<00:00,  9.13it/s]\n"
     ]
    },
    {
     "name": "stdout",
     "output_type": "stream",
     "text": [
      "[], holt_winters, {'this': 'that', 1: 2}\n",
      "Epoch 15 mean: 4.48 best: 1.264\n"
     ]
    },
    {
     "name": "stderr",
     "output_type": "stream",
     "text": [
      "100%|██████████| 10/10 [00:00<00:00, 10.80it/s]\n"
     ]
    },
    {
     "name": "stdout",
     "output_type": "stream",
     "text": [
      "[], holt_winters, {'seasonal_periods': 24}\n",
      "Epoch 16 mean: 5.71 best: 1.264\n"
     ]
    },
    {
     "name": "stderr",
     "output_type": "stream",
     "text": [
      "100%|██████████| 10/10 [00:00<00:00, 11.68it/s]\n"
     ]
    },
    {
     "name": "stdout",
     "output_type": "stream",
     "text": [
      "[], holt_winters, {'seasonal_periods': 24}\n",
      "Epoch 17 mean: 4.20 best: 1.264\n"
     ]
    },
    {
     "name": "stderr",
     "output_type": "stream",
     "text": [
      "100%|██████████| 10/10 [00:00<00:00, 11.80it/s]\n"
     ]
    },
    {
     "name": "stdout",
     "output_type": "stream",
     "text": [
      "[], holt_winters, {'seasonal_periods': 24}\n",
      "Epoch 18 mean: 3.19 best: 1.264\n"
     ]
    },
    {
     "name": "stderr",
     "output_type": "stream",
     "text": [
      "100%|██████████| 10/10 [00:00<00:00, 11.93it/s]\n"
     ]
    },
    {
     "name": "stdout",
     "output_type": "stream",
     "text": [
      "[], holt_winters, {'seasonal_periods': 24}\n",
      "Epoch 19 mean: 3.08 best: 1.264\n"
     ]
    },
    {
     "data": {
      "image/png": "[encoded data removed]",
      "text/plain": [
       "<Figure size 640x480 with 1 Axes>"
      ]
     },
     "metadata": {},
     "output_type": "display_data"
    }
   ],
   "source": [
    "for i in range(5):\n",
    "    \n",
    "    configuration = {\n",
    "        \"epochs\": 20,\n",
    "        \"population_size\": 10,\n",
    "        \"steps\": 3,\n",
    "        \"mutation_prob\": 0.4,\n",
    "        \"crossover_prob\": 0.4,\n",
    "        \"cycle_length\": 24,\n",
    "    }\n",
    "\n",
    "    dataset = get_dataset(\"electricity\", size=1000)\n",
    "\n",
    "    best_chromosome, num_pipelines_over_epochs, mean_per_epoch, best_per_epoch = genetic_algorithm(\n",
    "        configuration, dataset\n",
    "    )\n",
    "    plt.plot(range(20), best_per_epoch, label=i)\n",
    "plt.xlabel('epoch')\n",
    "plt.ylabel('best RMSE')\n",
    "plt.legend()\n",
    "plt.show()"
   ]
  },
  {
   "cell_type": "code",
   "execution_count": null,
   "metadata": {},
   "outputs": [],
   "source": []
  }
 ],
 "metadata": {
  "kernelspec": {
   "display_name": ".venv",
   "language": "python",
   "name": "python3"
  },
  "language_info": {
   "codemirror_mode": {
    "name": "ipython",
    "version": 3
   },
   "file_extension": ".py",
   "mimetype": "text/x-python",
   "name": "python",
   "nbconvert_exporter": "python",
   "pygments_lexer": "ipython3",
   "version": "3.8.10"
  },
  "orig_nbformat": 4
 },
 "nbformat": 4,
 "nbformat_minor": 2
}
